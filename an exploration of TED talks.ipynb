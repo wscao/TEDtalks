{
 "cells": [
  {
   "cell_type": "markdown",
   "metadata": {},
   "source": [
    "This dataset includes the information regarding all of the TED talks that were uploaded to the official website <a href=\"https://www.ted.com/\" target=\"_blank\">TED.com</a> before Sep. 21, 2017.\n",
    "\n",
    "First, let's have a look at the dataset, do some necessary cleaning and see what insights we can get from the analysis."
   ]
  },
  {
   "cell_type": "code",
   "execution_count": 2,
   "metadata": {},
   "outputs": [],
   "source": [
    "#import libraries\n",
    "\n",
    "%matplotlib inline\n",
    "import pandas as pd\n",
    "import numpy as np\n",
    "from scipy import stats\n",
    "import matplotlib.pyplot as plt\n",
    "import seaborn as sns\n"
   ]
  },
  {
   "cell_type": "code",
   "execution_count": 151,
   "metadata": {},
   "outputs": [
    {
     "name": "stdout",
     "output_type": "stream",
     "text": [
      "The dataset has 2550 rows and 17 columns.\n"
     ]
    }
   ],
   "source": [
    "#load the dataset\n",
    "ted = pd.read_csv('data/ted_main.csv')\n",
    "\n",
    "# check the dimension of the dataset\n",
    "print(f'The dataset has {ted.shape[0]} rows and {ted.shape[1]} columns.')"
   ]
  },
  {
   "cell_type": "code",
   "execution_count": 152,
   "metadata": {},
   "outputs": [],
   "source": [
    "#rearrange the order of the columns in the dataset\n",
    "ted = ted[['name', 'title', 'description', 'main_speaker', 'speaker_occupation', 'num_speaker', 'duration', 'event', 'film_date', 'published_date', 'comments', 'tags', 'languages', 'ratings', 'related_talks', 'url', 'views']]"
   ]
  },
  {
   "cell_type": "code",
   "execution_count": 5,
   "metadata": {},
   "outputs": [
    {
     "data": {
      "text/plain": [
       "Index(['name', 'title', 'description', 'main_speaker', 'speaker_occupation',\n",
       "       'num_speaker', 'duration', 'event', 'film_date', 'published_date',\n",
       "       'comments', 'tags', 'languages', 'ratings', 'related_talks', 'url',\n",
       "       'views'],\n",
       "      dtype='object')"
      ]
     },
     "execution_count": 5,
     "metadata": {},
     "output_type": "execute_result"
    }
   ],
   "source": [
    "#check the cloumns\n",
    "ted.columns"
   ]
  },
  {
   "cell_type": "code",
   "execution_count": 6,
   "metadata": {},
   "outputs": [
    {
     "data": {
      "text/html": [
       "<div>\n",
       "<style scoped>\n",
       "    .dataframe tbody tr th:only-of-type {\n",
       "        vertical-align: middle;\n",
       "    }\n",
       "\n",
       "    .dataframe tbody tr th {\n",
       "        vertical-align: top;\n",
       "    }\n",
       "\n",
       "    .dataframe thead th {\n",
       "        text-align: right;\n",
       "    }\n",
       "</style>\n",
       "<table border=\"1\" class=\"dataframe\">\n",
       "  <thead>\n",
       "    <tr style=\"text-align: right;\">\n",
       "      <th></th>\n",
       "      <th>name</th>\n",
       "      <th>title</th>\n",
       "      <th>description</th>\n",
       "      <th>main_speaker</th>\n",
       "      <th>speaker_occupation</th>\n",
       "      <th>num_speaker</th>\n",
       "      <th>duration</th>\n",
       "      <th>event</th>\n",
       "      <th>film_date</th>\n",
       "      <th>published_date</th>\n",
       "      <th>comments</th>\n",
       "      <th>tags</th>\n",
       "      <th>languages</th>\n",
       "      <th>ratings</th>\n",
       "      <th>related_talks</th>\n",
       "      <th>url</th>\n",
       "      <th>views</th>\n",
       "    </tr>\n",
       "  </thead>\n",
       "  <tbody>\n",
       "    <tr>\n",
       "      <th>0</th>\n",
       "      <td>Ken Robinson: Do schools kill creativity?</td>\n",
       "      <td>Do schools kill creativity?</td>\n",
       "      <td>Sir Ken Robinson makes an entertaining and pro...</td>\n",
       "      <td>Ken Robinson</td>\n",
       "      <td>Author/educator</td>\n",
       "      <td>1</td>\n",
       "      <td>1164</td>\n",
       "      <td>TED2006</td>\n",
       "      <td>1140825600</td>\n",
       "      <td>1151367060</td>\n",
       "      <td>4553</td>\n",
       "      <td>['children', 'creativity', 'culture', 'dance',...</td>\n",
       "      <td>60</td>\n",
       "      <td>[{'id': 7, 'name': 'Funny', 'count': 19645}, {...</td>\n",
       "      <td>[{'id': 865, 'hero': 'https://pe.tedcdn.com/im...</td>\n",
       "      <td>https://www.ted.com/talks/ken_robinson_says_sc...</td>\n",
       "      <td>47227110</td>\n",
       "    </tr>\n",
       "    <tr>\n",
       "      <th>1</th>\n",
       "      <td>Al Gore: Averting the climate crisis</td>\n",
       "      <td>Averting the climate crisis</td>\n",
       "      <td>With the same humor and humanity he exuded in ...</td>\n",
       "      <td>Al Gore</td>\n",
       "      <td>Climate advocate</td>\n",
       "      <td>1</td>\n",
       "      <td>977</td>\n",
       "      <td>TED2006</td>\n",
       "      <td>1140825600</td>\n",
       "      <td>1151367060</td>\n",
       "      <td>265</td>\n",
       "      <td>['alternative energy', 'cars', 'climate change...</td>\n",
       "      <td>43</td>\n",
       "      <td>[{'id': 7, 'name': 'Funny', 'count': 544}, {'i...</td>\n",
       "      <td>[{'id': 243, 'hero': 'https://pe.tedcdn.com/im...</td>\n",
       "      <td>https://www.ted.com/talks/al_gore_on_averting_...</td>\n",
       "      <td>3200520</td>\n",
       "    </tr>\n",
       "    <tr>\n",
       "      <th>2</th>\n",
       "      <td>David Pogue: Simplicity sells</td>\n",
       "      <td>Simplicity sells</td>\n",
       "      <td>New York Times columnist David Pogue takes aim...</td>\n",
       "      <td>David Pogue</td>\n",
       "      <td>Technology columnist</td>\n",
       "      <td>1</td>\n",
       "      <td>1286</td>\n",
       "      <td>TED2006</td>\n",
       "      <td>1140739200</td>\n",
       "      <td>1151367060</td>\n",
       "      <td>124</td>\n",
       "      <td>['computers', 'entertainment', 'interface desi...</td>\n",
       "      <td>26</td>\n",
       "      <td>[{'id': 7, 'name': 'Funny', 'count': 964}, {'i...</td>\n",
       "      <td>[{'id': 1725, 'hero': 'https://pe.tedcdn.com/i...</td>\n",
       "      <td>https://www.ted.com/talks/david_pogue_says_sim...</td>\n",
       "      <td>1636292</td>\n",
       "    </tr>\n",
       "    <tr>\n",
       "      <th>3</th>\n",
       "      <td>Majora Carter: Greening the ghetto</td>\n",
       "      <td>Greening the ghetto</td>\n",
       "      <td>In an emotionally charged talk, MacArthur-winn...</td>\n",
       "      <td>Majora Carter</td>\n",
       "      <td>Activist for environmental justice</td>\n",
       "      <td>1</td>\n",
       "      <td>1116</td>\n",
       "      <td>TED2006</td>\n",
       "      <td>1140912000</td>\n",
       "      <td>1151367060</td>\n",
       "      <td>200</td>\n",
       "      <td>['MacArthur grant', 'activism', 'business', 'c...</td>\n",
       "      <td>35</td>\n",
       "      <td>[{'id': 3, 'name': 'Courageous', 'count': 760}...</td>\n",
       "      <td>[{'id': 1041, 'hero': 'https://pe.tedcdn.com/i...</td>\n",
       "      <td>https://www.ted.com/talks/majora_carter_s_tale...</td>\n",
       "      <td>1697550</td>\n",
       "    </tr>\n",
       "    <tr>\n",
       "      <th>4</th>\n",
       "      <td>Hans Rosling: The best stats you've ever seen</td>\n",
       "      <td>The best stats you've ever seen</td>\n",
       "      <td>You've never seen data presented like this. Wi...</td>\n",
       "      <td>Hans Rosling</td>\n",
       "      <td>Global health expert; data visionary</td>\n",
       "      <td>1</td>\n",
       "      <td>1190</td>\n",
       "      <td>TED2006</td>\n",
       "      <td>1140566400</td>\n",
       "      <td>1151440680</td>\n",
       "      <td>593</td>\n",
       "      <td>['Africa', 'Asia', 'Google', 'demo', 'economic...</td>\n",
       "      <td>48</td>\n",
       "      <td>[{'id': 9, 'name': 'Ingenious', 'count': 3202}...</td>\n",
       "      <td>[{'id': 2056, 'hero': 'https://pe.tedcdn.com/i...</td>\n",
       "      <td>https://www.ted.com/talks/hans_rosling_shows_t...</td>\n",
       "      <td>12005869</td>\n",
       "    </tr>\n",
       "  </tbody>\n",
       "</table>\n",
       "</div>"
      ],
      "text/plain": [
       "                                            name  \\\n",
       "0      Ken Robinson: Do schools kill creativity?   \n",
       "1           Al Gore: Averting the climate crisis   \n",
       "2                  David Pogue: Simplicity sells   \n",
       "3             Majora Carter: Greening the ghetto   \n",
       "4  Hans Rosling: The best stats you've ever seen   \n",
       "\n",
       "                             title  \\\n",
       "0      Do schools kill creativity?   \n",
       "1      Averting the climate crisis   \n",
       "2                 Simplicity sells   \n",
       "3              Greening the ghetto   \n",
       "4  The best stats you've ever seen   \n",
       "\n",
       "                                         description   main_speaker  \\\n",
       "0  Sir Ken Robinson makes an entertaining and pro...   Ken Robinson   \n",
       "1  With the same humor and humanity he exuded in ...        Al Gore   \n",
       "2  New York Times columnist David Pogue takes aim...    David Pogue   \n",
       "3  In an emotionally charged talk, MacArthur-winn...  Majora Carter   \n",
       "4  You've never seen data presented like this. Wi...   Hans Rosling   \n",
       "\n",
       "                     speaker_occupation  num_speaker  duration    event  \\\n",
       "0                       Author/educator            1      1164  TED2006   \n",
       "1                      Climate advocate            1       977  TED2006   \n",
       "2                  Technology columnist            1      1286  TED2006   \n",
       "3    Activist for environmental justice            1      1116  TED2006   \n",
       "4  Global health expert; data visionary            1      1190  TED2006   \n",
       "\n",
       "    film_date  published_date  comments  \\\n",
       "0  1140825600      1151367060      4553   \n",
       "1  1140825600      1151367060       265   \n",
       "2  1140739200      1151367060       124   \n",
       "3  1140912000      1151367060       200   \n",
       "4  1140566400      1151440680       593   \n",
       "\n",
       "                                                tags  languages  \\\n",
       "0  ['children', 'creativity', 'culture', 'dance',...         60   \n",
       "1  ['alternative energy', 'cars', 'climate change...         43   \n",
       "2  ['computers', 'entertainment', 'interface desi...         26   \n",
       "3  ['MacArthur grant', 'activism', 'business', 'c...         35   \n",
       "4  ['Africa', 'Asia', 'Google', 'demo', 'economic...         48   \n",
       "\n",
       "                                             ratings  \\\n",
       "0  [{'id': 7, 'name': 'Funny', 'count': 19645}, {...   \n",
       "1  [{'id': 7, 'name': 'Funny', 'count': 544}, {'i...   \n",
       "2  [{'id': 7, 'name': 'Funny', 'count': 964}, {'i...   \n",
       "3  [{'id': 3, 'name': 'Courageous', 'count': 760}...   \n",
       "4  [{'id': 9, 'name': 'Ingenious', 'count': 3202}...   \n",
       "\n",
       "                                       related_talks  \\\n",
       "0  [{'id': 865, 'hero': 'https://pe.tedcdn.com/im...   \n",
       "1  [{'id': 243, 'hero': 'https://pe.tedcdn.com/im...   \n",
       "2  [{'id': 1725, 'hero': 'https://pe.tedcdn.com/i...   \n",
       "3  [{'id': 1041, 'hero': 'https://pe.tedcdn.com/i...   \n",
       "4  [{'id': 2056, 'hero': 'https://pe.tedcdn.com/i...   \n",
       "\n",
       "                                                 url     views  \n",
       "0  https://www.ted.com/talks/ken_robinson_says_sc...  47227110  \n",
       "1  https://www.ted.com/talks/al_gore_on_averting_...   3200520  \n",
       "2  https://www.ted.com/talks/david_pogue_says_sim...   1636292  \n",
       "3  https://www.ted.com/talks/majora_carter_s_tale...   1697550  \n",
       "4  https://www.ted.com/talks/hans_rosling_shows_t...  12005869  "
      ]
     },
     "execution_count": 6,
     "metadata": {},
     "output_type": "execute_result"
    }
   ],
   "source": [
    "ted.head()"
   ]
  },
  {
   "cell_type": "markdown",
   "metadata": {},
   "source": [
    "We can see that the film_date and publish_date are encoded in Unix timestamp. We will use the `datetime` module to convert it to human readable datetime formats."
   ]
  },
  {
   "cell_type": "code",
   "execution_count": 153,
   "metadata": {},
   "outputs": [],
   "source": [
    "#convert film_date and publish_date\n",
    "import datetime\n",
    "ted['film_date'] = ted['film_date'].apply(lambda x: datetime.datetime.fromtimestamp(int(x)).strftime('%d-%m-%Y'))\n",
    "ted['published_date'] = ted['published_date'].apply(lambda x: datetime.datetime.fromtimestamp(int(x)).strftime('%d-%m-%Y'))"
   ]
  },
  {
   "cell_type": "markdown",
   "metadata": {},
   "source": [
    "The current dataset looks like below after the initial cleaning:"
   ]
  },
  {
   "cell_type": "code",
   "execution_count": 8,
   "metadata": {},
   "outputs": [
    {
     "data": {
      "text/html": [
       "<div>\n",
       "<style scoped>\n",
       "    .dataframe tbody tr th:only-of-type {\n",
       "        vertical-align: middle;\n",
       "    }\n",
       "\n",
       "    .dataframe tbody tr th {\n",
       "        vertical-align: top;\n",
       "    }\n",
       "\n",
       "    .dataframe thead th {\n",
       "        text-align: right;\n",
       "    }\n",
       "</style>\n",
       "<table border=\"1\" class=\"dataframe\">\n",
       "  <thead>\n",
       "    <tr style=\"text-align: right;\">\n",
       "      <th></th>\n",
       "      <th>name</th>\n",
       "      <th>title</th>\n",
       "      <th>description</th>\n",
       "      <th>main_speaker</th>\n",
       "      <th>speaker_occupation</th>\n",
       "      <th>num_speaker</th>\n",
       "      <th>duration</th>\n",
       "      <th>event</th>\n",
       "      <th>film_date</th>\n",
       "      <th>published_date</th>\n",
       "      <th>comments</th>\n",
       "      <th>tags</th>\n",
       "      <th>languages</th>\n",
       "      <th>ratings</th>\n",
       "      <th>related_talks</th>\n",
       "      <th>url</th>\n",
       "      <th>views</th>\n",
       "    </tr>\n",
       "  </thead>\n",
       "  <tbody>\n",
       "    <tr>\n",
       "      <th>0</th>\n",
       "      <td>Ken Robinson: Do schools kill creativity?</td>\n",
       "      <td>Do schools kill creativity?</td>\n",
       "      <td>Sir Ken Robinson makes an entertaining and pro...</td>\n",
       "      <td>Ken Robinson</td>\n",
       "      <td>Author/educator</td>\n",
       "      <td>1</td>\n",
       "      <td>1164</td>\n",
       "      <td>TED2006</td>\n",
       "      <td>24-02-2006</td>\n",
       "      <td>26-06-2006</td>\n",
       "      <td>4553</td>\n",
       "      <td>['children', 'creativity', 'culture', 'dance',...</td>\n",
       "      <td>60</td>\n",
       "      <td>[{'id': 7, 'name': 'Funny', 'count': 19645}, {...</td>\n",
       "      <td>[{'id': 865, 'hero': 'https://pe.tedcdn.com/im...</td>\n",
       "      <td>https://www.ted.com/talks/ken_robinson_says_sc...</td>\n",
       "      <td>47227110</td>\n",
       "    </tr>\n",
       "    <tr>\n",
       "      <th>1</th>\n",
       "      <td>Al Gore: Averting the climate crisis</td>\n",
       "      <td>Averting the climate crisis</td>\n",
       "      <td>With the same humor and humanity he exuded in ...</td>\n",
       "      <td>Al Gore</td>\n",
       "      <td>Climate advocate</td>\n",
       "      <td>1</td>\n",
       "      <td>977</td>\n",
       "      <td>TED2006</td>\n",
       "      <td>24-02-2006</td>\n",
       "      <td>26-06-2006</td>\n",
       "      <td>265</td>\n",
       "      <td>['alternative energy', 'cars', 'climate change...</td>\n",
       "      <td>43</td>\n",
       "      <td>[{'id': 7, 'name': 'Funny', 'count': 544}, {'i...</td>\n",
       "      <td>[{'id': 243, 'hero': 'https://pe.tedcdn.com/im...</td>\n",
       "      <td>https://www.ted.com/talks/al_gore_on_averting_...</td>\n",
       "      <td>3200520</td>\n",
       "    </tr>\n",
       "  </tbody>\n",
       "</table>\n",
       "</div>"
      ],
      "text/plain": [
       "                                        name                        title  \\\n",
       "0  Ken Robinson: Do schools kill creativity?  Do schools kill creativity?   \n",
       "1       Al Gore: Averting the climate crisis  Averting the climate crisis   \n",
       "\n",
       "                                         description  main_speaker  \\\n",
       "0  Sir Ken Robinson makes an entertaining and pro...  Ken Robinson   \n",
       "1  With the same humor and humanity he exuded in ...       Al Gore   \n",
       "\n",
       "  speaker_occupation  num_speaker  duration    event   film_date  \\\n",
       "0    Author/educator            1      1164  TED2006  24-02-2006   \n",
       "1   Climate advocate            1       977  TED2006  24-02-2006   \n",
       "\n",
       "  published_date  comments                                               tags  \\\n",
       "0     26-06-2006      4553  ['children', 'creativity', 'culture', 'dance',...   \n",
       "1     26-06-2006       265  ['alternative energy', 'cars', 'climate change...   \n",
       "\n",
       "   languages                                            ratings  \\\n",
       "0         60  [{'id': 7, 'name': 'Funny', 'count': 19645}, {...   \n",
       "1         43  [{'id': 7, 'name': 'Funny', 'count': 544}, {'i...   \n",
       "\n",
       "                                       related_talks  \\\n",
       "0  [{'id': 865, 'hero': 'https://pe.tedcdn.com/im...   \n",
       "1  [{'id': 243, 'hero': 'https://pe.tedcdn.com/im...   \n",
       "\n",
       "                                                 url     views  \n",
       "0  https://www.ted.com/talks/ken_robinson_says_sc...  47227110  \n",
       "1  https://www.ted.com/talks/al_gore_on_averting_...   3200520  "
      ]
     },
     "execution_count": 8,
     "metadata": {},
     "output_type": "execute_result"
    }
   ],
   "source": [
    "ted.head(2)"
   ]
  },
  {
   "cell_type": "markdown",
   "metadata": {},
   "source": [
    "### check the data quality"
   ]
  },
  {
   "cell_type": "code",
   "execution_count": 10,
   "metadata": {},
   "outputs": [
    {
     "data": {
      "text/plain": [
       "name                  False\n",
       "title                 False\n",
       "description           False\n",
       "main_speaker          False\n",
       "speaker_occupation     True\n",
       "num_speaker           False\n",
       "duration              False\n",
       "event                 False\n",
       "film_date             False\n",
       "published_date        False\n",
       "comments              False\n",
       "tags                  False\n",
       "languages             False\n",
       "ratings               False\n",
       "related_talks         False\n",
       "url                   False\n",
       "views                 False\n",
       "dtype: bool"
      ]
     },
     "execution_count": 10,
     "metadata": {},
     "output_type": "execute_result"
    }
   ],
   "source": [
    "# check nulls\n",
    "ted.isnull().any()"
   ]
  },
  {
   "cell_type": "code",
   "execution_count": 154,
   "metadata": {},
   "outputs": [
    {
     "data": {
      "text/html": [
       "<div>\n",
       "<style scoped>\n",
       "    .dataframe tbody tr th:only-of-type {\n",
       "        vertical-align: middle;\n",
       "    }\n",
       "\n",
       "    .dataframe tbody tr th {\n",
       "        vertical-align: top;\n",
       "    }\n",
       "\n",
       "    .dataframe thead th {\n",
       "        text-align: right;\n",
       "    }\n",
       "</style>\n",
       "<table border=\"1\" class=\"dataframe\">\n",
       "  <thead>\n",
       "    <tr style=\"text-align: right;\">\n",
       "      <th></th>\n",
       "      <th>name</th>\n",
       "      <th>title</th>\n",
       "      <th>description</th>\n",
       "      <th>main_speaker</th>\n",
       "      <th>speaker_occupation</th>\n",
       "      <th>num_speaker</th>\n",
       "      <th>duration</th>\n",
       "      <th>event</th>\n",
       "      <th>film_date</th>\n",
       "      <th>published_date</th>\n",
       "      <th>comments</th>\n",
       "      <th>tags</th>\n",
       "      <th>languages</th>\n",
       "      <th>ratings</th>\n",
       "      <th>related_talks</th>\n",
       "      <th>url</th>\n",
       "      <th>views</th>\n",
       "    </tr>\n",
       "  </thead>\n",
       "  <tbody>\n",
       "    <tr>\n",
       "      <th>1113</th>\n",
       "      <td>Sonaar Luthra: Meet the Water Canary</td>\n",
       "      <td>Meet the Water Canary</td>\n",
       "      <td>After a crisis, how can we tell if water is sa...</td>\n",
       "      <td>Sonaar Luthra</td>\n",
       "      <td>NaN</td>\n",
       "      <td>1</td>\n",
       "      <td>217</td>\n",
       "      <td>TEDGlobal 2011</td>\n",
       "      <td>13-07-2011</td>\n",
       "      <td>16-01-2012</td>\n",
       "      <td>145</td>\n",
       "      <td>['TED Fellows', 'design', 'global development'...</td>\n",
       "      <td>38</td>\n",
       "      <td>[{'id': 10, 'name': 'Inspiring', 'count': 73},...</td>\n",
       "      <td>[{'id': 523, 'hero': 'https://pe.tedcdn.com/im...</td>\n",
       "      <td>https://www.ted.com/talks/sonaar_luthra_meet_t...</td>\n",
       "      <td>353749</td>\n",
       "    </tr>\n",
       "    <tr>\n",
       "      <th>1192</th>\n",
       "      <td>Rick Falkvinge: I am a pirate</td>\n",
       "      <td>I am a pirate</td>\n",
       "      <td>The Pirate Party fights for transparency, anon...</td>\n",
       "      <td>Rick Falkvinge</td>\n",
       "      <td>NaN</td>\n",
       "      <td>1</td>\n",
       "      <td>1097</td>\n",
       "      <td>TEDxObserver</td>\n",
       "      <td>10-03-2012</td>\n",
       "      <td>01-04-2012</td>\n",
       "      <td>122</td>\n",
       "      <td>['Internet', 'TEDx', 'global issues', 'politic...</td>\n",
       "      <td>10</td>\n",
       "      <td>[{'id': 8, 'name': 'Informative', 'count': 156...</td>\n",
       "      <td>[{'id': 1329, 'hero': 'https://pe.tedcdn.com/i...</td>\n",
       "      <td>https://www.ted.com/talks/rick_falkvinge_i_am_...</td>\n",
       "      <td>181010</td>\n",
       "    </tr>\n",
       "    <tr>\n",
       "      <th>1220</th>\n",
       "      <td>Gary Kovacs: Tracking our online trackers</td>\n",
       "      <td>Tracking our online trackers</td>\n",
       "      <td>As you surf the Web, information is being coll...</td>\n",
       "      <td>Gary Kovacs</td>\n",
       "      <td>NaN</td>\n",
       "      <td>1</td>\n",
       "      <td>399</td>\n",
       "      <td>TED2012</td>\n",
       "      <td>28-02-2012</td>\n",
       "      <td>03-05-2012</td>\n",
       "      <td>257</td>\n",
       "      <td>['Internet', 'advertising', 'business', 'priva...</td>\n",
       "      <td>32</td>\n",
       "      <td>[{'id': 23, 'name': 'Jaw-dropping', 'count': 9...</td>\n",
       "      <td>[{'id': 1370, 'hero': 'https://pe.tedcdn.com/i...</td>\n",
       "      <td>https://www.ted.com/talks/gary_kovacs_tracking...</td>\n",
       "      <td>2098639</td>\n",
       "    </tr>\n",
       "    <tr>\n",
       "      <th>1656</th>\n",
       "      <td>Ryan Holladay: To hear this music you have to ...</td>\n",
       "      <td>To hear this music you have to be there. Liter...</td>\n",
       "      <td>In this lovely talk, TED Fellow Ryan Holladay ...</td>\n",
       "      <td>Ryan Holladay</td>\n",
       "      <td>NaN</td>\n",
       "      <td>1</td>\n",
       "      <td>389</td>\n",
       "      <td>TED@BCG San Francisco</td>\n",
       "      <td>29-10-2013</td>\n",
       "      <td>10-01-2014</td>\n",
       "      <td>140</td>\n",
       "      <td>['TED Fellows', 'entertainment', 'music', 'tec...</td>\n",
       "      <td>33</td>\n",
       "      <td>[{'id': 1, 'name': 'Beautiful', 'count': 211},...</td>\n",
       "      <td>[{'id': 1152, 'hero': 'https://pe.tedcdn.com/i...</td>\n",
       "      <td>https://www.ted.com/talks/ryan_holladay_to_hea...</td>\n",
       "      <td>1284510</td>\n",
       "    </tr>\n",
       "    <tr>\n",
       "      <th>1911</th>\n",
       "      <td>Brian Dettmer: Old books reborn as art</td>\n",
       "      <td>Old books reborn as art</td>\n",
       "      <td>What do you do with an outdated encyclopedia i...</td>\n",
       "      <td>Brian Dettmer</td>\n",
       "      <td>NaN</td>\n",
       "      <td>1</td>\n",
       "      <td>366</td>\n",
       "      <td>TEDYouth 2014</td>\n",
       "      <td>03-11-2014</td>\n",
       "      <td>06-02-2015</td>\n",
       "      <td>48</td>\n",
       "      <td>['TEDYouth', 'art', 'books', 'creativity']</td>\n",
       "      <td>34</td>\n",
       "      <td>[{'id': 1, 'name': 'Beautiful', 'count': 361},...</td>\n",
       "      <td>[{'id': 610, 'hero': 'https://pe.tedcdn.com/im...</td>\n",
       "      <td>https://www.ted.com/talks/brian_dettmer_old_bo...</td>\n",
       "      <td>1159937</td>\n",
       "    </tr>\n",
       "    <tr>\n",
       "      <th>1949</th>\n",
       "      <td>Boniface Mwangi: The day I stood up alone</td>\n",
       "      <td>The day I stood up alone</td>\n",
       "      <td>Photographer Boniface Mwangi wanted to protest...</td>\n",
       "      <td>Boniface Mwangi</td>\n",
       "      <td>NaN</td>\n",
       "      <td>1</td>\n",
       "      <td>440</td>\n",
       "      <td>TEDGlobal 2014</td>\n",
       "      <td>19-10-2014</td>\n",
       "      <td>02-04-2015</td>\n",
       "      <td>70</td>\n",
       "      <td>['TED Fellows', 'activism', 'art', 'corruption...</td>\n",
       "      <td>33</td>\n",
       "      <td>[{'id': 3, 'name': 'Courageous', 'count': 614}...</td>\n",
       "      <td>[{'id': 1757, 'hero': 'https://pe.tedcdn.com/i...</td>\n",
       "      <td>https://www.ted.com/talks/boniface_mwangi_boni...</td>\n",
       "      <td>1342431</td>\n",
       "    </tr>\n",
       "  </tbody>\n",
       "</table>\n",
       "</div>"
      ],
      "text/plain": [
       "                                                   name  \\\n",
       "1113               Sonaar Luthra: Meet the Water Canary   \n",
       "1192                      Rick Falkvinge: I am a pirate   \n",
       "1220          Gary Kovacs: Tracking our online trackers   \n",
       "1656  Ryan Holladay: To hear this music you have to ...   \n",
       "1911             Brian Dettmer: Old books reborn as art   \n",
       "1949          Boniface Mwangi: The day I stood up alone   \n",
       "\n",
       "                                                  title  \\\n",
       "1113                              Meet the Water Canary   \n",
       "1192                                      I am a pirate   \n",
       "1220                       Tracking our online trackers   \n",
       "1656  To hear this music you have to be there. Liter...   \n",
       "1911                            Old books reborn as art   \n",
       "1949                           The day I stood up alone   \n",
       "\n",
       "                                            description     main_speaker  \\\n",
       "1113  After a crisis, how can we tell if water is sa...    Sonaar Luthra   \n",
       "1192  The Pirate Party fights for transparency, anon...   Rick Falkvinge   \n",
       "1220  As you surf the Web, information is being coll...      Gary Kovacs   \n",
       "1656  In this lovely talk, TED Fellow Ryan Holladay ...    Ryan Holladay   \n",
       "1911  What do you do with an outdated encyclopedia i...    Brian Dettmer   \n",
       "1949  Photographer Boniface Mwangi wanted to protest...  Boniface Mwangi   \n",
       "\n",
       "     speaker_occupation  num_speaker  duration                  event  \\\n",
       "1113                NaN            1       217         TEDGlobal 2011   \n",
       "1192                NaN            1      1097           TEDxObserver   \n",
       "1220                NaN            1       399                TED2012   \n",
       "1656                NaN            1       389  TED@BCG San Francisco   \n",
       "1911                NaN            1       366          TEDYouth 2014   \n",
       "1949                NaN            1       440         TEDGlobal 2014   \n",
       "\n",
       "       film_date published_date  comments  \\\n",
       "1113  13-07-2011     16-01-2012       145   \n",
       "1192  10-03-2012     01-04-2012       122   \n",
       "1220  28-02-2012     03-05-2012       257   \n",
       "1656  29-10-2013     10-01-2014       140   \n",
       "1911  03-11-2014     06-02-2015        48   \n",
       "1949  19-10-2014     02-04-2015        70   \n",
       "\n",
       "                                                   tags  languages  \\\n",
       "1113  ['TED Fellows', 'design', 'global development'...         38   \n",
       "1192  ['Internet', 'TEDx', 'global issues', 'politic...         10   \n",
       "1220  ['Internet', 'advertising', 'business', 'priva...         32   \n",
       "1656  ['TED Fellows', 'entertainment', 'music', 'tec...         33   \n",
       "1911         ['TEDYouth', 'art', 'books', 'creativity']         34   \n",
       "1949  ['TED Fellows', 'activism', 'art', 'corruption...         33   \n",
       "\n",
       "                                                ratings  \\\n",
       "1113  [{'id': 10, 'name': 'Inspiring', 'count': 73},...   \n",
       "1192  [{'id': 8, 'name': 'Informative', 'count': 156...   \n",
       "1220  [{'id': 23, 'name': 'Jaw-dropping', 'count': 9...   \n",
       "1656  [{'id': 1, 'name': 'Beautiful', 'count': 211},...   \n",
       "1911  [{'id': 1, 'name': 'Beautiful', 'count': 361},...   \n",
       "1949  [{'id': 3, 'name': 'Courageous', 'count': 614}...   \n",
       "\n",
       "                                          related_talks  \\\n",
       "1113  [{'id': 523, 'hero': 'https://pe.tedcdn.com/im...   \n",
       "1192  [{'id': 1329, 'hero': 'https://pe.tedcdn.com/i...   \n",
       "1220  [{'id': 1370, 'hero': 'https://pe.tedcdn.com/i...   \n",
       "1656  [{'id': 1152, 'hero': 'https://pe.tedcdn.com/i...   \n",
       "1911  [{'id': 610, 'hero': 'https://pe.tedcdn.com/im...   \n",
       "1949  [{'id': 1757, 'hero': 'https://pe.tedcdn.com/i...   \n",
       "\n",
       "                                                    url    views  \n",
       "1113  https://www.ted.com/talks/sonaar_luthra_meet_t...   353749  \n",
       "1192  https://www.ted.com/talks/rick_falkvinge_i_am_...   181010  \n",
       "1220  https://www.ted.com/talks/gary_kovacs_tracking...  2098639  \n",
       "1656  https://www.ted.com/talks/ryan_holladay_to_hea...  1284510  \n",
       "1911  https://www.ted.com/talks/brian_dettmer_old_bo...  1159937  \n",
       "1949  https://www.ted.com/talks/boniface_mwangi_boni...  1342431  "
      ]
     },
     "execution_count": 154,
     "metadata": {},
     "output_type": "execute_result"
    }
   ],
   "source": [
    "# check the null in the speaker_occupation column\n",
    "ted[ted['speaker_occupation'].isnull()]"
   ]
  },
  {
   "cell_type": "markdown",
   "metadata": {},
   "source": [
    "There are 6 nulls in 'speaker_occupation' column and no nulls in other columns. It should have no much impact in the later analysis."
   ]
  },
  {
   "cell_type": "markdown",
   "metadata": {},
   "source": [
    "### the descriptive analysis of the numeric data"
   ]
  },
  {
   "cell_type": "code",
   "execution_count": 12,
   "metadata": {},
   "outputs": [
    {
     "data": {
      "text/html": [
       "<div>\n",
       "<style scoped>\n",
       "    .dataframe tbody tr th:only-of-type {\n",
       "        vertical-align: middle;\n",
       "    }\n",
       "\n",
       "    .dataframe tbody tr th {\n",
       "        vertical-align: top;\n",
       "    }\n",
       "\n",
       "    .dataframe thead th {\n",
       "        text-align: right;\n",
       "    }\n",
       "</style>\n",
       "<table border=\"1\" class=\"dataframe\">\n",
       "  <thead>\n",
       "    <tr style=\"text-align: right;\">\n",
       "      <th></th>\n",
       "      <th>num_speaker</th>\n",
       "      <th>duration</th>\n",
       "      <th>comments</th>\n",
       "      <th>languages</th>\n",
       "      <th>views</th>\n",
       "    </tr>\n",
       "  </thead>\n",
       "  <tbody>\n",
       "    <tr>\n",
       "      <th>count</th>\n",
       "      <td>2550.000000</td>\n",
       "      <td>2550.000000</td>\n",
       "      <td>2550.000000</td>\n",
       "      <td>2550.000000</td>\n",
       "      <td>2.550000e+03</td>\n",
       "    </tr>\n",
       "    <tr>\n",
       "      <th>mean</th>\n",
       "      <td>1.028235</td>\n",
       "      <td>826.510196</td>\n",
       "      <td>191.562353</td>\n",
       "      <td>27.326275</td>\n",
       "      <td>1.698297e+06</td>\n",
       "    </tr>\n",
       "    <tr>\n",
       "      <th>std</th>\n",
       "      <td>0.207705</td>\n",
       "      <td>374.009138</td>\n",
       "      <td>282.315223</td>\n",
       "      <td>9.563452</td>\n",
       "      <td>2.498479e+06</td>\n",
       "    </tr>\n",
       "    <tr>\n",
       "      <th>min</th>\n",
       "      <td>1.000000</td>\n",
       "      <td>135.000000</td>\n",
       "      <td>2.000000</td>\n",
       "      <td>0.000000</td>\n",
       "      <td>5.044300e+04</td>\n",
       "    </tr>\n",
       "    <tr>\n",
       "      <th>25%</th>\n",
       "      <td>1.000000</td>\n",
       "      <td>577.000000</td>\n",
       "      <td>63.000000</td>\n",
       "      <td>23.000000</td>\n",
       "      <td>7.557928e+05</td>\n",
       "    </tr>\n",
       "    <tr>\n",
       "      <th>50%</th>\n",
       "      <td>1.000000</td>\n",
       "      <td>848.000000</td>\n",
       "      <td>118.000000</td>\n",
       "      <td>28.000000</td>\n",
       "      <td>1.124524e+06</td>\n",
       "    </tr>\n",
       "    <tr>\n",
       "      <th>75%</th>\n",
       "      <td>1.000000</td>\n",
       "      <td>1046.750000</td>\n",
       "      <td>221.750000</td>\n",
       "      <td>33.000000</td>\n",
       "      <td>1.700760e+06</td>\n",
       "    </tr>\n",
       "    <tr>\n",
       "      <th>max</th>\n",
       "      <td>5.000000</td>\n",
       "      <td>5256.000000</td>\n",
       "      <td>6404.000000</td>\n",
       "      <td>72.000000</td>\n",
       "      <td>4.722711e+07</td>\n",
       "    </tr>\n",
       "  </tbody>\n",
       "</table>\n",
       "</div>"
      ],
      "text/plain": [
       "       num_speaker     duration     comments    languages         views\n",
       "count  2550.000000  2550.000000  2550.000000  2550.000000  2.550000e+03\n",
       "mean      1.028235   826.510196   191.562353    27.326275  1.698297e+06\n",
       "std       0.207705   374.009138   282.315223     9.563452  2.498479e+06\n",
       "min       1.000000   135.000000     2.000000     0.000000  5.044300e+04\n",
       "25%       1.000000   577.000000    63.000000    23.000000  7.557928e+05\n",
       "50%       1.000000   848.000000   118.000000    28.000000  1.124524e+06\n",
       "75%       1.000000  1046.750000   221.750000    33.000000  1.700760e+06\n",
       "max       5.000000  5256.000000  6404.000000    72.000000  4.722711e+07"
      ]
     },
     "execution_count": 12,
     "metadata": {},
     "output_type": "execute_result"
    }
   ],
   "source": [
    "ted.describe()"
   ]
  },
  {
   "cell_type": "code",
   "execution_count": 13,
   "metadata": {},
   "outputs": [
    {
     "name": "stdout",
     "output_type": "stream",
     "text": [
      "The number of talks of a single speaker makes up 97.7% of all the talks.\n",
      "The number of talks that are less than 18 minutes makes up 79.1% of all the talks.\n"
     ]
    }
   ],
   "source": [
    "# the proportion of a single speaker\n",
    "print('The number of talks of a single speaker makes up {}% of all the talks.'. format(round(sum(ted['num_speaker']==1)*100/len(ted),1)))\n",
    "# the proportion of talks that are less than 18 minutes\n",
    "print('The number of talks that are less than 18 minutes makes up {}% of all the talks.'. format(round(sum(ted['duration']<= 18*60)*100/len(ted),1)))"
   ]
  },
  {
   "cell_type": "markdown",
   "metadata": {},
   "source": [
    "### the initial observations"
   ]
  },
  {
   "cell_type": "markdown",
   "metadata": {},
   "source": [
    "* The number of speakers range between 1 and 5, most(97.7%)are made up of single speakers.\n",
    "* The duration of talks are between 135 seconds and 5256 seconds, which are 2- 88 minutes. 79.1% are less than 18 minutes.\n",
    "* The number of comments range between 2 and 6404, averaging 191.5\n",
    "* The views range between 50,000 and 47,000,000, averaging 1,700,000.\n",
    "* TED makes several languages avaliable, 72 at most."
   ]
  },
  {
   "cell_type": "markdown",
   "metadata": {},
   "source": [
    "### What was everyone watching? -- the 10 most viewed TED talks"
   ]
  },
  {
   "cell_type": "code",
   "execution_count": 14,
   "metadata": {},
   "outputs": [
    {
     "data": {
      "text/html": [
       "<div>\n",
       "<style scoped>\n",
       "    .dataframe tbody tr th:only-of-type {\n",
       "        vertical-align: middle;\n",
       "    }\n",
       "\n",
       "    .dataframe tbody tr th {\n",
       "        vertical-align: top;\n",
       "    }\n",
       "\n",
       "    .dataframe thead th {\n",
       "        text-align: right;\n",
       "    }\n",
       "</style>\n",
       "<table border=\"1\" class=\"dataframe\">\n",
       "  <thead>\n",
       "    <tr style=\"text-align: right;\">\n",
       "      <th></th>\n",
       "      <th>name</th>\n",
       "      <th>title</th>\n",
       "      <th>description</th>\n",
       "      <th>main_speaker</th>\n",
       "      <th>speaker_occupation</th>\n",
       "      <th>num_speaker</th>\n",
       "      <th>duration</th>\n",
       "      <th>event</th>\n",
       "      <th>film_date</th>\n",
       "      <th>published_date</th>\n",
       "      <th>comments</th>\n",
       "      <th>tags</th>\n",
       "      <th>languages</th>\n",
       "      <th>ratings</th>\n",
       "      <th>related_talks</th>\n",
       "      <th>url</th>\n",
       "      <th>views</th>\n",
       "    </tr>\n",
       "  </thead>\n",
       "  <tbody>\n",
       "    <tr>\n",
       "      <th>0</th>\n",
       "      <td>Ken Robinson: Do schools kill creativity?</td>\n",
       "      <td>Do schools kill creativity?</td>\n",
       "      <td>Sir Ken Robinson makes an entertaining and pro...</td>\n",
       "      <td>Ken Robinson</td>\n",
       "      <td>Author/educator</td>\n",
       "      <td>1</td>\n",
       "      <td>1164</td>\n",
       "      <td>TED2006</td>\n",
       "      <td>24-02-2006</td>\n",
       "      <td>26-06-2006</td>\n",
       "      <td>4553</td>\n",
       "      <td>['children', 'creativity', 'culture', 'dance',...</td>\n",
       "      <td>60</td>\n",
       "      <td>[{'id': 7, 'name': 'Funny', 'count': 19645}, {...</td>\n",
       "      <td>[{'id': 865, 'hero': 'https://pe.tedcdn.com/im...</td>\n",
       "      <td>https://www.ted.com/talks/ken_robinson_says_sc...</td>\n",
       "      <td>47227110</td>\n",
       "    </tr>\n",
       "    <tr>\n",
       "      <th>1346</th>\n",
       "      <td>Amy Cuddy: Your body language may shape who yo...</td>\n",
       "      <td>Your body language may shape who you are</td>\n",
       "      <td>Body language affects how others see us, but i...</td>\n",
       "      <td>Amy Cuddy</td>\n",
       "      <td>Social psychologist</td>\n",
       "      <td>1</td>\n",
       "      <td>1262</td>\n",
       "      <td>TEDGlobal 2012</td>\n",
       "      <td>25-06-2012</td>\n",
       "      <td>01-10-2012</td>\n",
       "      <td>2290</td>\n",
       "      <td>['body language', 'brain', 'business', 'psycho...</td>\n",
       "      <td>51</td>\n",
       "      <td>[{'id': 23, 'name': 'Jaw-dropping', 'count': 3...</td>\n",
       "      <td>[{'id': 605, 'hero': 'https://pe.tedcdn.com/im...</td>\n",
       "      <td>https://www.ted.com/talks/amy_cuddy_your_body_...</td>\n",
       "      <td>43155405</td>\n",
       "    </tr>\n",
       "    <tr>\n",
       "      <th>677</th>\n",
       "      <td>Simon Sinek: How great leaders inspire action</td>\n",
       "      <td>How great leaders inspire action</td>\n",
       "      <td>Simon Sinek has a simple but powerful model fo...</td>\n",
       "      <td>Simon Sinek</td>\n",
       "      <td>Leadership expert</td>\n",
       "      <td>1</td>\n",
       "      <td>1084</td>\n",
       "      <td>TEDxPuget Sound</td>\n",
       "      <td>16-09-2009</td>\n",
       "      <td>04-05-2010</td>\n",
       "      <td>1930</td>\n",
       "      <td>['TEDx', 'business', 'entrepreneur', 'leadersh...</td>\n",
       "      <td>45</td>\n",
       "      <td>[{'id': 21, 'name': 'Unconvincing', 'count': 9...</td>\n",
       "      <td>[{'id': 814, 'hero': 'https://pe.tedcdn.com/im...</td>\n",
       "      <td>https://www.ted.com/talks/simon_sinek_how_grea...</td>\n",
       "      <td>34309432</td>\n",
       "    </tr>\n",
       "    <tr>\n",
       "      <th>837</th>\n",
       "      <td>Brené Brown: The power of vulnerability</td>\n",
       "      <td>The power of vulnerability</td>\n",
       "      <td>Brené Brown studies human connection -- our ab...</td>\n",
       "      <td>Brené Brown</td>\n",
       "      <td>Vulnerability researcher</td>\n",
       "      <td>1</td>\n",
       "      <td>1219</td>\n",
       "      <td>TEDxHouston</td>\n",
       "      <td>05-06-2010</td>\n",
       "      <td>23-12-2010</td>\n",
       "      <td>1927</td>\n",
       "      <td>['TEDx', 'communication', 'culture', 'depressi...</td>\n",
       "      <td>52</td>\n",
       "      <td>[{'id': 10, 'name': 'Inspiring', 'count': 2144...</td>\n",
       "      <td>[{'id': 1391, 'hero': 'https://pe.tedcdn.com/i...</td>\n",
       "      <td>https://www.ted.com/talks/brene_brown_on_vulne...</td>\n",
       "      <td>31168150</td>\n",
       "    </tr>\n",
       "    <tr>\n",
       "      <th>452</th>\n",
       "      <td>Mary Roach: 10 things you didn't know about or...</td>\n",
       "      <td>10 things you didn't know about orgasm</td>\n",
       "      <td>\"Bonk\" author Mary Roach delves into obscure s...</td>\n",
       "      <td>Mary Roach</td>\n",
       "      <td>Writer</td>\n",
       "      <td>1</td>\n",
       "      <td>1003</td>\n",
       "      <td>TED2009</td>\n",
       "      <td>05-02-2009</td>\n",
       "      <td>19-05-2009</td>\n",
       "      <td>354</td>\n",
       "      <td>['books', 'culture', 'history', 'humor', 'scie...</td>\n",
       "      <td>37</td>\n",
       "      <td>[{'id': 23, 'name': 'Jaw-dropping', 'count': 3...</td>\n",
       "      <td>[{'id': 16, 'hero': 'https://pe.tedcdn.com/ima...</td>\n",
       "      <td>https://www.ted.com/talks/mary_roach_10_things...</td>\n",
       "      <td>22270883</td>\n",
       "    </tr>\n",
       "    <tr>\n",
       "      <th>1776</th>\n",
       "      <td>Julian Treasure: How to speak so that people w...</td>\n",
       "      <td>How to speak so that people want to listen</td>\n",
       "      <td>Have you ever felt like you're talking, but no...</td>\n",
       "      <td>Julian Treasure</td>\n",
       "      <td>Sound consultant</td>\n",
       "      <td>1</td>\n",
       "      <td>598</td>\n",
       "      <td>TEDGlobal 2013</td>\n",
       "      <td>09-06-2013</td>\n",
       "      <td>27-06-2014</td>\n",
       "      <td>297</td>\n",
       "      <td>['culture', 'sound', 'speech']</td>\n",
       "      <td>45</td>\n",
       "      <td>[{'id': 24, 'name': 'Persuasive', 'count': 267...</td>\n",
       "      <td>[{'id': 1200, 'hero': 'https://pe.tedcdn.com/i...</td>\n",
       "      <td>https://www.ted.com/talks/julian_treasure_how_...</td>\n",
       "      <td>21594632</td>\n",
       "    </tr>\n",
       "    <tr>\n",
       "      <th>201</th>\n",
       "      <td>Jill Bolte Taylor: My stroke of insight</td>\n",
       "      <td>My stroke of insight</td>\n",
       "      <td>Jill Bolte Taylor got a research opportunity f...</td>\n",
       "      <td>Jill Bolte Taylor</td>\n",
       "      <td>Neuroanatomist</td>\n",
       "      <td>1</td>\n",
       "      <td>1099</td>\n",
       "      <td>TED2008</td>\n",
       "      <td>26-02-2008</td>\n",
       "      <td>11-03-2008</td>\n",
       "      <td>2877</td>\n",
       "      <td>['biology', 'brain', 'consciousness', 'global ...</td>\n",
       "      <td>49</td>\n",
       "      <td>[{'id': 22, 'name': 'Fascinating', 'count': 14...</td>\n",
       "      <td>[{'id': 184, 'hero': 'https://pe.tedcdn.com/im...</td>\n",
       "      <td>https://www.ted.com/talks/jill_bolte_taylor_s_...</td>\n",
       "      <td>21190883</td>\n",
       "    </tr>\n",
       "    <tr>\n",
       "      <th>5</th>\n",
       "      <td>Tony Robbins: Why we do what we do</td>\n",
       "      <td>Why we do what we do</td>\n",
       "      <td>Tony Robbins discusses the \"invisible forces\" ...</td>\n",
       "      <td>Tony Robbins</td>\n",
       "      <td>Life coach; expert in leadership psychology</td>\n",
       "      <td>1</td>\n",
       "      <td>1305</td>\n",
       "      <td>TED2006</td>\n",
       "      <td>01-02-2006</td>\n",
       "      <td>27-06-2006</td>\n",
       "      <td>672</td>\n",
       "      <td>['business', 'culture', 'entertainment', 'goal...</td>\n",
       "      <td>36</td>\n",
       "      <td>[{'id': 7, 'name': 'Funny', 'count': 1102}, {'...</td>\n",
       "      <td>[{'id': 229, 'hero': 'https://pe.tedcdn.com/im...</td>\n",
       "      <td>https://www.ted.com/talks/tony_robbins_asks_wh...</td>\n",
       "      <td>20685401</td>\n",
       "    </tr>\n",
       "    <tr>\n",
       "      <th>2114</th>\n",
       "      <td>James Veitch: This is what happens when you re...</td>\n",
       "      <td>This is what happens when you reply to spam email</td>\n",
       "      <td>Suspicious emails: unclaimed insurance bonds, ...</td>\n",
       "      <td>James Veitch</td>\n",
       "      <td>Comedian and writer</td>\n",
       "      <td>1</td>\n",
       "      <td>588</td>\n",
       "      <td>TEDGlobal&gt;Geneva</td>\n",
       "      <td>07-12-2015</td>\n",
       "      <td>08-01-2016</td>\n",
       "      <td>150</td>\n",
       "      <td>['comedy', 'communication', 'curiosity', 'humo...</td>\n",
       "      <td>43</td>\n",
       "      <td>[{'id': 7, 'name': 'Funny', 'count': 7731}, {'...</td>\n",
       "      <td>[{'id': 2236, 'hero': 'https://pe.tedcdn.com/i...</td>\n",
       "      <td>https://www.ted.com/talks/james_veitch_this_is...</td>\n",
       "      <td>20475972</td>\n",
       "    </tr>\n",
       "    <tr>\n",
       "      <th>1416</th>\n",
       "      <td>Cameron Russell: Looks aren't everything. Beli...</td>\n",
       "      <td>Looks aren't everything. Believe me, I'm a model.</td>\n",
       "      <td>Cameron Russell admits she won “a genetic lott...</td>\n",
       "      <td>Cameron Russell</td>\n",
       "      <td>Model</td>\n",
       "      <td>1</td>\n",
       "      <td>577</td>\n",
       "      <td>TEDxMidAtlantic</td>\n",
       "      <td>26-10-2012</td>\n",
       "      <td>16-01-2013</td>\n",
       "      <td>846</td>\n",
       "      <td>['TEDx', 'beauty', 'culture', 'fashion', 'phot...</td>\n",
       "      <td>43</td>\n",
       "      <td>[{'id': 11, 'name': 'Longwinded', 'count': 92}...</td>\n",
       "      <td>[{'id': 1438, 'hero': 'https://pe.tedcdn.com/i...</td>\n",
       "      <td>https://www.ted.com/talks/cameron_russell_look...</td>\n",
       "      <td>19787465</td>\n",
       "    </tr>\n",
       "  </tbody>\n",
       "</table>\n",
       "</div>"
      ],
      "text/plain": [
       "                                                   name  \\\n",
       "0             Ken Robinson: Do schools kill creativity?   \n",
       "1346  Amy Cuddy: Your body language may shape who yo...   \n",
       "677       Simon Sinek: How great leaders inspire action   \n",
       "837             Brené Brown: The power of vulnerability   \n",
       "452   Mary Roach: 10 things you didn't know about or...   \n",
       "1776  Julian Treasure: How to speak so that people w...   \n",
       "201             Jill Bolte Taylor: My stroke of insight   \n",
       "5                    Tony Robbins: Why we do what we do   \n",
       "2114  James Veitch: This is what happens when you re...   \n",
       "1416  Cameron Russell: Looks aren't everything. Beli...   \n",
       "\n",
       "                                                  title  \\\n",
       "0                           Do schools kill creativity?   \n",
       "1346           Your body language may shape who you are   \n",
       "677                    How great leaders inspire action   \n",
       "837                          The power of vulnerability   \n",
       "452              10 things you didn't know about orgasm   \n",
       "1776         How to speak so that people want to listen   \n",
       "201                                My stroke of insight   \n",
       "5                                  Why we do what we do   \n",
       "2114  This is what happens when you reply to spam email   \n",
       "1416  Looks aren't everything. Believe me, I'm a model.   \n",
       "\n",
       "                                            description       main_speaker  \\\n",
       "0     Sir Ken Robinson makes an entertaining and pro...       Ken Robinson   \n",
       "1346  Body language affects how others see us, but i...          Amy Cuddy   \n",
       "677   Simon Sinek has a simple but powerful model fo...        Simon Sinek   \n",
       "837   Brené Brown studies human connection -- our ab...        Brené Brown   \n",
       "452   \"Bonk\" author Mary Roach delves into obscure s...         Mary Roach   \n",
       "1776  Have you ever felt like you're talking, but no...    Julian Treasure   \n",
       "201   Jill Bolte Taylor got a research opportunity f...  Jill Bolte Taylor   \n",
       "5     Tony Robbins discusses the \"invisible forces\" ...       Tony Robbins   \n",
       "2114  Suspicious emails: unclaimed insurance bonds, ...       James Veitch   \n",
       "1416  Cameron Russell admits she won “a genetic lott...    Cameron Russell   \n",
       "\n",
       "                               speaker_occupation  num_speaker  duration  \\\n",
       "0                                 Author/educator            1      1164   \n",
       "1346                          Social psychologist            1      1262   \n",
       "677                             Leadership expert            1      1084   \n",
       "837                      Vulnerability researcher            1      1219   \n",
       "452                                        Writer            1      1003   \n",
       "1776                             Sound consultant            1       598   \n",
       "201                                Neuroanatomist            1      1099   \n",
       "5     Life coach; expert in leadership psychology            1      1305   \n",
       "2114                          Comedian and writer            1       588   \n",
       "1416                                        Model            1       577   \n",
       "\n",
       "                 event   film_date published_date  comments  \\\n",
       "0              TED2006  24-02-2006     26-06-2006      4553   \n",
       "1346    TEDGlobal 2012  25-06-2012     01-10-2012      2290   \n",
       "677   TEDxPuget Sound   16-09-2009     04-05-2010      1930   \n",
       "837        TEDxHouston  05-06-2010     23-12-2010      1927   \n",
       "452            TED2009  05-02-2009     19-05-2009       354   \n",
       "1776    TEDGlobal 2013  09-06-2013     27-06-2014       297   \n",
       "201            TED2008  26-02-2008     11-03-2008      2877   \n",
       "5              TED2006  01-02-2006     27-06-2006       672   \n",
       "2114  TEDGlobal>Geneva  07-12-2015     08-01-2016       150   \n",
       "1416   TEDxMidAtlantic  26-10-2012     16-01-2013       846   \n",
       "\n",
       "                                                   tags  languages  \\\n",
       "0     ['children', 'creativity', 'culture', 'dance',...         60   \n",
       "1346  ['body language', 'brain', 'business', 'psycho...         51   \n",
       "677   ['TEDx', 'business', 'entrepreneur', 'leadersh...         45   \n",
       "837   ['TEDx', 'communication', 'culture', 'depressi...         52   \n",
       "452   ['books', 'culture', 'history', 'humor', 'scie...         37   \n",
       "1776                     ['culture', 'sound', 'speech']         45   \n",
       "201   ['biology', 'brain', 'consciousness', 'global ...         49   \n",
       "5     ['business', 'culture', 'entertainment', 'goal...         36   \n",
       "2114  ['comedy', 'communication', 'curiosity', 'humo...         43   \n",
       "1416  ['TEDx', 'beauty', 'culture', 'fashion', 'phot...         43   \n",
       "\n",
       "                                                ratings  \\\n",
       "0     [{'id': 7, 'name': 'Funny', 'count': 19645}, {...   \n",
       "1346  [{'id': 23, 'name': 'Jaw-dropping', 'count': 3...   \n",
       "677   [{'id': 21, 'name': 'Unconvincing', 'count': 9...   \n",
       "837   [{'id': 10, 'name': 'Inspiring', 'count': 2144...   \n",
       "452   [{'id': 23, 'name': 'Jaw-dropping', 'count': 3...   \n",
       "1776  [{'id': 24, 'name': 'Persuasive', 'count': 267...   \n",
       "201   [{'id': 22, 'name': 'Fascinating', 'count': 14...   \n",
       "5     [{'id': 7, 'name': 'Funny', 'count': 1102}, {'...   \n",
       "2114  [{'id': 7, 'name': 'Funny', 'count': 7731}, {'...   \n",
       "1416  [{'id': 11, 'name': 'Longwinded', 'count': 92}...   \n",
       "\n",
       "                                          related_talks  \\\n",
       "0     [{'id': 865, 'hero': 'https://pe.tedcdn.com/im...   \n",
       "1346  [{'id': 605, 'hero': 'https://pe.tedcdn.com/im...   \n",
       "677   [{'id': 814, 'hero': 'https://pe.tedcdn.com/im...   \n",
       "837   [{'id': 1391, 'hero': 'https://pe.tedcdn.com/i...   \n",
       "452   [{'id': 16, 'hero': 'https://pe.tedcdn.com/ima...   \n",
       "1776  [{'id': 1200, 'hero': 'https://pe.tedcdn.com/i...   \n",
       "201   [{'id': 184, 'hero': 'https://pe.tedcdn.com/im...   \n",
       "5     [{'id': 229, 'hero': 'https://pe.tedcdn.com/im...   \n",
       "2114  [{'id': 2236, 'hero': 'https://pe.tedcdn.com/i...   \n",
       "1416  [{'id': 1438, 'hero': 'https://pe.tedcdn.com/i...   \n",
       "\n",
       "                                                    url     views  \n",
       "0     https://www.ted.com/talks/ken_robinson_says_sc...  47227110  \n",
       "1346  https://www.ted.com/talks/amy_cuddy_your_body_...  43155405  \n",
       "677   https://www.ted.com/talks/simon_sinek_how_grea...  34309432  \n",
       "837   https://www.ted.com/talks/brene_brown_on_vulne...  31168150  \n",
       "452   https://www.ted.com/talks/mary_roach_10_things...  22270883  \n",
       "1776  https://www.ted.com/talks/julian_treasure_how_...  21594632  \n",
       "201   https://www.ted.com/talks/jill_bolte_taylor_s_...  21190883  \n",
       "5     https://www.ted.com/talks/tony_robbins_asks_wh...  20685401  \n",
       "2114  https://www.ted.com/talks/james_veitch_this_is...  20475972  \n",
       "1416  https://www.ted.com/talks/cameron_russell_look...  19787465  "
      ]
     },
     "execution_count": 14,
     "metadata": {},
     "output_type": "execute_result"
    }
   ],
   "source": [
    "top10 = ted.sort_values('views', ascending = False).head(10)\n",
    "top10"
   ]
  },
  {
   "cell_type": "code",
   "execution_count": 15,
   "metadata": {},
   "outputs": [
    {
     "data": {
      "text/plain": [
       "Text(0, 0.5, 'Views')"
      ]
     },
     "execution_count": 15,
     "metadata": {},
     "output_type": "execute_result"
    },
    {
     "data": {
      "image/png": "[encoded data removed]",
      "text/plain": [
       "<Figure size 432x288 with 1 Axes>"
      ]
     },
     "metadata": {
      "needs_background": "light"
     },
     "output_type": "display_data"
    }
   ],
   "source": [
    "# a bar plot\n",
    "top10.plot('main_speaker', 'views', kind='bar')\n",
    "plt.xlabel('Speaker')\n",
    "plt.ylabel('Views')\n"
   ]
  },
  {
   "cell_type": "markdown",
   "metadata": {},
   "source": [
    "Next, we're going to take a look at the views distribution overall."
   ]
  },
  {
   "cell_type": "code",
   "execution_count": 16,
   "metadata": {},
   "outputs": [
    {
     "data": {
      "text/plain": [
       "count    2.550000e+03\n",
       "mean     1.698297e+06\n",
       "std      2.498479e+06\n",
       "min      5.044300e+04\n",
       "25%      7.557928e+05\n",
       "50%      1.124524e+06\n",
       "75%      1.700760e+06\n",
       "max      4.722711e+07\n",
       "Name: views, dtype: float64"
      ]
     },
     "execution_count": 16,
     "metadata": {},
     "output_type": "execute_result"
    }
   ],
   "source": [
    "ted['views'].describe()"
   ]
  },
  {
   "cell_type": "code",
   "execution_count": 17,
   "metadata": {},
   "outputs": [
    {
     "data": {
      "text/plain": [
       "<AxesSubplot:xlabel='views'>"
      ]
     },
     "execution_count": 17,
     "metadata": {},
     "output_type": "execute_result"
    },
    {
     "data": {
      "image/png": "[encoded data removed]",
      "text/plain": [
       "<Figure size 432x288 with 1 Axes>"
      ]
     },
     "metadata": {
      "needs_background": "light"
     },
     "output_type": "display_data"
    }
   ],
   "source": [
    "# boxplot\n",
    "sns.boxplot(x=ted['views'])"
   ]
  },
  {
   "cell_type": "code",
   "execution_count": 18,
   "metadata": {},
   "outputs": [
    {
     "name": "stderr",
     "output_type": "stream",
     "text": [
      "c:\\users\\wensh\\pycharmprojects\\dataanalysis\\venv\\lib\\site-packages\\seaborn\\distributions.py:2557: FutureWarning: `distplot` is a deprecated function and will be removed in a future version. Please adapt your code to use either `displot` (a figure-level function with similar flexibility) or `histplot` (an axes-level function for histograms).\n",
      "  warnings.warn(msg, FutureWarning)\n"
     ]
    },
    {
     "data": {
      "text/plain": [
       "<AxesSubplot:ylabel='Density'>"
      ]
     },
     "execution_count": 18,
     "metadata": {},
     "output_type": "execute_result"
    },
    {
     "data": {
      "image/png": "[encoded data removed]",
      "text/plain": [
       "<Figure size 432x288 with 1 Axes>"
      ]
     },
     "metadata": {
      "needs_background": "light"
     },
     "output_type": "display_data"
    }
   ],
   "source": [
    "# distribution\n",
    "sns.distplot(x=ted['views'])"
   ]
  },
  {
   "cell_type": "code",
   "execution_count": 19,
   "metadata": {},
   "outputs": [
    {
     "name": "stdout",
     "output_type": "stream",
     "text": [
      "The number of talks that have views less than 4 million make up 93.5% of all the talks.\n"
     ]
    }
   ],
   "source": [
    "# views that are less than 4 million\n",
    "print('The number of talks that have views less than 4 million make up {}% of all the talks.'. format(round(sum(ted[\"views\"] <= 4000000)*100/len(ted), 1)))"
   ]
  },
  {
   "cell_type": "markdown",
   "metadata": {},
   "source": [
    "The mean of the views is 1.7 million, the median is 1.1 million. It shows that the TED talks are popular.\n",
    "93.5% of the talks have views less than 4 million. Therefore, we're going to plot the distribution of the talks that have views less than 4 million."
   ]
  },
  {
   "cell_type": "code",
   "execution_count": 20,
   "metadata": {},
   "outputs": [
    {
     "name": "stderr",
     "output_type": "stream",
     "text": [
      "c:\\users\\wensh\\pycharmprojects\\dataanalysis\\venv\\lib\\site-packages\\seaborn\\distributions.py:2557: FutureWarning: `distplot` is a deprecated function and will be removed in a future version. Please adapt your code to use either `displot` (a figure-level function with similar flexibility) or `histplot` (an axes-level function for histograms).\n",
      "  warnings.warn(msg, FutureWarning)\n"
     ]
    },
    {
     "data": {
      "text/plain": [
       "Text(0.5, 1.0, 'the distribution of talks with views less than 4 million')"
      ]
     },
     "execution_count": 20,
     "metadata": {},
     "output_type": "execute_result"
    },
    {
     "data": {
      "image/png": "[encoded data removed]",
      "text/plain": [
       "<Figure size 432x288 with 1 Axes>"
      ]
     },
     "metadata": {
      "needs_background": "light"
     },
     "output_type": "display_data"
    }
   ],
   "source": [
    "sns.distplot(x=ted[ted['views']<=4000000]['views']).set_title('the distribution of talks with views less than 4 million')"
   ]
  },
  {
   "cell_type": "markdown",
   "metadata": {},
   "source": [
    "### What was everyone talking about? -- the 10 most discussed TED talks"
   ]
  },
  {
   "cell_type": "code",
   "execution_count": 21,
   "metadata": {},
   "outputs": [
    {
     "data": {
      "text/html": [
       "<div>\n",
       "<style scoped>\n",
       "    .dataframe tbody tr th:only-of-type {\n",
       "        vertical-align: middle;\n",
       "    }\n",
       "\n",
       "    .dataframe tbody tr th {\n",
       "        vertical-align: top;\n",
       "    }\n",
       "\n",
       "    .dataframe thead th {\n",
       "        text-align: right;\n",
       "    }\n",
       "</style>\n",
       "<table border=\"1\" class=\"dataframe\">\n",
       "  <thead>\n",
       "    <tr style=\"text-align: right;\">\n",
       "      <th></th>\n",
       "      <th>name</th>\n",
       "      <th>title</th>\n",
       "      <th>description</th>\n",
       "      <th>main_speaker</th>\n",
       "      <th>speaker_occupation</th>\n",
       "      <th>num_speaker</th>\n",
       "      <th>duration</th>\n",
       "      <th>event</th>\n",
       "      <th>film_date</th>\n",
       "      <th>published_date</th>\n",
       "      <th>comments</th>\n",
       "      <th>tags</th>\n",
       "      <th>languages</th>\n",
       "      <th>ratings</th>\n",
       "      <th>related_talks</th>\n",
       "      <th>url</th>\n",
       "      <th>views</th>\n",
       "    </tr>\n",
       "  </thead>\n",
       "  <tbody>\n",
       "    <tr>\n",
       "      <th>96</th>\n",
       "      <td>Richard Dawkins: Militant atheism</td>\n",
       "      <td>Militant atheism</td>\n",
       "      <td>Richard Dawkins urges all atheists to openly s...</td>\n",
       "      <td>Richard Dawkins</td>\n",
       "      <td>Evolutionary biologist</td>\n",
       "      <td>1</td>\n",
       "      <td>1750</td>\n",
       "      <td>TED2002</td>\n",
       "      <td>01-02-2002</td>\n",
       "      <td>15-04-2007</td>\n",
       "      <td>6404</td>\n",
       "      <td>['God', 'atheism', 'culture', 'religion', 'sci...</td>\n",
       "      <td>42</td>\n",
       "      <td>[{'id': 3, 'name': 'Courageous', 'count': 3236...</td>\n",
       "      <td>[{'id': 86, 'hero': 'https://pe.tedcdn.com/ima...</td>\n",
       "      <td>https://www.ted.com/talks/richard_dawkins_on_m...</td>\n",
       "      <td>4374792</td>\n",
       "    </tr>\n",
       "    <tr>\n",
       "      <th>0</th>\n",
       "      <td>Ken Robinson: Do schools kill creativity?</td>\n",
       "      <td>Do schools kill creativity?</td>\n",
       "      <td>Sir Ken Robinson makes an entertaining and pro...</td>\n",
       "      <td>Ken Robinson</td>\n",
       "      <td>Author/educator</td>\n",
       "      <td>1</td>\n",
       "      <td>1164</td>\n",
       "      <td>TED2006</td>\n",
       "      <td>24-02-2006</td>\n",
       "      <td>26-06-2006</td>\n",
       "      <td>4553</td>\n",
       "      <td>['children', 'creativity', 'culture', 'dance',...</td>\n",
       "      <td>60</td>\n",
       "      <td>[{'id': 7, 'name': 'Funny', 'count': 19645}, {...</td>\n",
       "      <td>[{'id': 865, 'hero': 'https://pe.tedcdn.com/im...</td>\n",
       "      <td>https://www.ted.com/talks/ken_robinson_says_sc...</td>\n",
       "      <td>47227110</td>\n",
       "    </tr>\n",
       "    <tr>\n",
       "      <th>644</th>\n",
       "      <td>Sam Harris: Science can answer moral questions</td>\n",
       "      <td>Science can answer moral questions</td>\n",
       "      <td>Questions of good and evil, right and wrong ar...</td>\n",
       "      <td>Sam Harris</td>\n",
       "      <td>Neuroscientist, philosopher</td>\n",
       "      <td>1</td>\n",
       "      <td>1386</td>\n",
       "      <td>TED2010</td>\n",
       "      <td>10-02-2010</td>\n",
       "      <td>22-03-2010</td>\n",
       "      <td>3356</td>\n",
       "      <td>['culture', 'evolutionary psychology', 'global...</td>\n",
       "      <td>39</td>\n",
       "      <td>[{'id': 8, 'name': 'Informative', 'count': 923...</td>\n",
       "      <td>[{'id': 666, 'hero': 'https://pe.tedcdn.com/im...</td>\n",
       "      <td>https://www.ted.com/talks/sam_harris_science_c...</td>\n",
       "      <td>3433437</td>\n",
       "    </tr>\n",
       "    <tr>\n",
       "      <th>201</th>\n",
       "      <td>Jill Bolte Taylor: My stroke of insight</td>\n",
       "      <td>My stroke of insight</td>\n",
       "      <td>Jill Bolte Taylor got a research opportunity f...</td>\n",
       "      <td>Jill Bolte Taylor</td>\n",
       "      <td>Neuroanatomist</td>\n",
       "      <td>1</td>\n",
       "      <td>1099</td>\n",
       "      <td>TED2008</td>\n",
       "      <td>26-02-2008</td>\n",
       "      <td>11-03-2008</td>\n",
       "      <td>2877</td>\n",
       "      <td>['biology', 'brain', 'consciousness', 'global ...</td>\n",
       "      <td>49</td>\n",
       "      <td>[{'id': 22, 'name': 'Fascinating', 'count': 14...</td>\n",
       "      <td>[{'id': 184, 'hero': 'https://pe.tedcdn.com/im...</td>\n",
       "      <td>https://www.ted.com/talks/jill_bolte_taylor_s_...</td>\n",
       "      <td>21190883</td>\n",
       "    </tr>\n",
       "    <tr>\n",
       "      <th>1787</th>\n",
       "      <td>David Chalmers: How do you explain consciousness?</td>\n",
       "      <td>How do you explain consciousness?</td>\n",
       "      <td>Our consciousness is a fundamental aspect of o...</td>\n",
       "      <td>David Chalmers</td>\n",
       "      <td>Philosopher</td>\n",
       "      <td>1</td>\n",
       "      <td>1117</td>\n",
       "      <td>TED2014</td>\n",
       "      <td>17-03-2014</td>\n",
       "      <td>14-07-2014</td>\n",
       "      <td>2673</td>\n",
       "      <td>['brain', 'consciousness', 'neuroscience', 'ph...</td>\n",
       "      <td>33</td>\n",
       "      <td>[{'id': 25, 'name': 'OK', 'count': 280}, {'id'...</td>\n",
       "      <td>[{'id': 1308, 'hero': 'https://pe.tedcdn.com/i...</td>\n",
       "      <td>https://www.ted.com/talks/david_chalmers_how_d...</td>\n",
       "      <td>2162764</td>\n",
       "    </tr>\n",
       "    <tr>\n",
       "      <th>954</th>\n",
       "      <td>Janet Echelman: Taking imagination seriously</td>\n",
       "      <td>Taking imagination seriously</td>\n",
       "      <td>Janet Echelman found her true voice as an arti...</td>\n",
       "      <td>Janet Echelman</td>\n",
       "      <td>Artist</td>\n",
       "      <td>1</td>\n",
       "      <td>566</td>\n",
       "      <td>TED2011</td>\n",
       "      <td>02-03-2011</td>\n",
       "      <td>07-06-2011</td>\n",
       "      <td>2492</td>\n",
       "      <td>['art', 'cities', 'culture', 'data', 'design',...</td>\n",
       "      <td>35</td>\n",
       "      <td>[{'id': 23, 'name': 'Jaw-dropping', 'count': 3...</td>\n",
       "      <td>[{'id': 453, 'hero': 'https://pe.tedcdn.com/im...</td>\n",
       "      <td>https://www.ted.com/talks/janet_echelman\\n</td>\n",
       "      <td>1832930</td>\n",
       "    </tr>\n",
       "    <tr>\n",
       "      <th>840</th>\n",
       "      <td>Lesley Hazleton: On reading the Koran</td>\n",
       "      <td>On reading the Koran</td>\n",
       "      <td>Lesley Hazleton sat down one day to read the K...</td>\n",
       "      <td>Lesley Hazleton</td>\n",
       "      <td>Writer, psychologist</td>\n",
       "      <td>1</td>\n",
       "      <td>573</td>\n",
       "      <td>TEDxRainier</td>\n",
       "      <td>09-10-2010</td>\n",
       "      <td>04-01-2011</td>\n",
       "      <td>2374</td>\n",
       "      <td>['TEDx', 'culture', 'global issues', 'journali...</td>\n",
       "      <td>35</td>\n",
       "      <td>[{'id': 3, 'name': 'Courageous', 'count': 488}...</td>\n",
       "      <td>[{'id': 1772, 'hero': 'https://pe.tedcdn.com/i...</td>\n",
       "      <td>https://www.ted.com/talks/lesley_hazelton_on_r...</td>\n",
       "      <td>1847256</td>\n",
       "    </tr>\n",
       "    <tr>\n",
       "      <th>1346</th>\n",
       "      <td>Amy Cuddy: Your body language may shape who yo...</td>\n",
       "      <td>Your body language may shape who you are</td>\n",
       "      <td>Body language affects how others see us, but i...</td>\n",
       "      <td>Amy Cuddy</td>\n",
       "      <td>Social psychologist</td>\n",
       "      <td>1</td>\n",
       "      <td>1262</td>\n",
       "      <td>TEDGlobal 2012</td>\n",
       "      <td>25-06-2012</td>\n",
       "      <td>01-10-2012</td>\n",
       "      <td>2290</td>\n",
       "      <td>['body language', 'brain', 'business', 'psycho...</td>\n",
       "      <td>51</td>\n",
       "      <td>[{'id': 23, 'name': 'Jaw-dropping', 'count': 3...</td>\n",
       "      <td>[{'id': 605, 'hero': 'https://pe.tedcdn.com/im...</td>\n",
       "      <td>https://www.ted.com/talks/amy_cuddy_your_body_...</td>\n",
       "      <td>43155405</td>\n",
       "    </tr>\n",
       "    <tr>\n",
       "      <th>661</th>\n",
       "      <td>Michael Specter: The danger of science denial</td>\n",
       "      <td>The danger of science denial</td>\n",
       "      <td>Vaccine-autism claims, \"Frankenfood\" bans, the...</td>\n",
       "      <td>Michael Specter</td>\n",
       "      <td>Writer</td>\n",
       "      <td>1</td>\n",
       "      <td>1141</td>\n",
       "      <td>TED2010</td>\n",
       "      <td>10-02-2010</td>\n",
       "      <td>12-04-2010</td>\n",
       "      <td>2272</td>\n",
       "      <td>['global issues', 'medicine', 'religion', 'sci...</td>\n",
       "      <td>31</td>\n",
       "      <td>[{'id': 3, 'name': 'Courageous', 'count': 702}...</td>\n",
       "      <td>[{'id': 801, 'hero': 'https://pe.tedcdn.com/im...</td>\n",
       "      <td>https://www.ted.com/talks/michael_specter_the_...</td>\n",
       "      <td>1838628</td>\n",
       "    </tr>\n",
       "    <tr>\n",
       "      <th>677</th>\n",
       "      <td>Simon Sinek: How great leaders inspire action</td>\n",
       "      <td>How great leaders inspire action</td>\n",
       "      <td>Simon Sinek has a simple but powerful model fo...</td>\n",
       "      <td>Simon Sinek</td>\n",
       "      <td>Leadership expert</td>\n",
       "      <td>1</td>\n",
       "      <td>1084</td>\n",
       "      <td>TEDxPuget Sound</td>\n",
       "      <td>16-09-2009</td>\n",
       "      <td>04-05-2010</td>\n",
       "      <td>1930</td>\n",
       "      <td>['TEDx', 'business', 'entrepreneur', 'leadersh...</td>\n",
       "      <td>45</td>\n",
       "      <td>[{'id': 21, 'name': 'Unconvincing', 'count': 9...</td>\n",
       "      <td>[{'id': 814, 'hero': 'https://pe.tedcdn.com/im...</td>\n",
       "      <td>https://www.ted.com/talks/simon_sinek_how_grea...</td>\n",
       "      <td>34309432</td>\n",
       "    </tr>\n",
       "  </tbody>\n",
       "</table>\n",
       "</div>"
      ],
      "text/plain": [
       "                                                   name  \\\n",
       "96                    Richard Dawkins: Militant atheism   \n",
       "0             Ken Robinson: Do schools kill creativity?   \n",
       "644      Sam Harris: Science can answer moral questions   \n",
       "201             Jill Bolte Taylor: My stroke of insight   \n",
       "1787  David Chalmers: How do you explain consciousness?   \n",
       "954        Janet Echelman: Taking imagination seriously   \n",
       "840               Lesley Hazleton: On reading the Koran   \n",
       "1346  Amy Cuddy: Your body language may shape who yo...   \n",
       "661       Michael Specter: The danger of science denial   \n",
       "677       Simon Sinek: How great leaders inspire action   \n",
       "\n",
       "                                         title  \\\n",
       "96                            Militant atheism   \n",
       "0                  Do schools kill creativity?   \n",
       "644         Science can answer moral questions   \n",
       "201                       My stroke of insight   \n",
       "1787         How do you explain consciousness?   \n",
       "954               Taking imagination seriously   \n",
       "840                       On reading the Koran   \n",
       "1346  Your body language may shape who you are   \n",
       "661               The danger of science denial   \n",
       "677           How great leaders inspire action   \n",
       "\n",
       "                                            description       main_speaker  \\\n",
       "96    Richard Dawkins urges all atheists to openly s...    Richard Dawkins   \n",
       "0     Sir Ken Robinson makes an entertaining and pro...       Ken Robinson   \n",
       "644   Questions of good and evil, right and wrong ar...         Sam Harris   \n",
       "201   Jill Bolte Taylor got a research opportunity f...  Jill Bolte Taylor   \n",
       "1787  Our consciousness is a fundamental aspect of o...     David Chalmers   \n",
       "954   Janet Echelman found her true voice as an arti...     Janet Echelman   \n",
       "840   Lesley Hazleton sat down one day to read the K...    Lesley Hazleton   \n",
       "1346  Body language affects how others see us, but i...          Amy Cuddy   \n",
       "661   Vaccine-autism claims, \"Frankenfood\" bans, the...    Michael Specter   \n",
       "677   Simon Sinek has a simple but powerful model fo...        Simon Sinek   \n",
       "\n",
       "               speaker_occupation  num_speaker  duration             event  \\\n",
       "96         Evolutionary biologist            1      1750           TED2002   \n",
       "0                 Author/educator            1      1164           TED2006   \n",
       "644   Neuroscientist, philosopher            1      1386           TED2010   \n",
       "201                Neuroanatomist            1      1099           TED2008   \n",
       "1787                  Philosopher            1      1117           TED2014   \n",
       "954                        Artist            1       566           TED2011   \n",
       "840          Writer, psychologist            1       573       TEDxRainier   \n",
       "1346          Social psychologist            1      1262    TEDGlobal 2012   \n",
       "661                        Writer            1      1141           TED2010   \n",
       "677             Leadership expert            1      1084  TEDxPuget Sound    \n",
       "\n",
       "       film_date published_date  comments  \\\n",
       "96    01-02-2002     15-04-2007      6404   \n",
       "0     24-02-2006     26-06-2006      4553   \n",
       "644   10-02-2010     22-03-2010      3356   \n",
       "201   26-02-2008     11-03-2008      2877   \n",
       "1787  17-03-2014     14-07-2014      2673   \n",
       "954   02-03-2011     07-06-2011      2492   \n",
       "840   09-10-2010     04-01-2011      2374   \n",
       "1346  25-06-2012     01-10-2012      2290   \n",
       "661   10-02-2010     12-04-2010      2272   \n",
       "677   16-09-2009     04-05-2010      1930   \n",
       "\n",
       "                                                   tags  languages  \\\n",
       "96    ['God', 'atheism', 'culture', 'religion', 'sci...         42   \n",
       "0     ['children', 'creativity', 'culture', 'dance',...         60   \n",
       "644   ['culture', 'evolutionary psychology', 'global...         39   \n",
       "201   ['biology', 'brain', 'consciousness', 'global ...         49   \n",
       "1787  ['brain', 'consciousness', 'neuroscience', 'ph...         33   \n",
       "954   ['art', 'cities', 'culture', 'data', 'design',...         35   \n",
       "840   ['TEDx', 'culture', 'global issues', 'journali...         35   \n",
       "1346  ['body language', 'brain', 'business', 'psycho...         51   \n",
       "661   ['global issues', 'medicine', 'religion', 'sci...         31   \n",
       "677   ['TEDx', 'business', 'entrepreneur', 'leadersh...         45   \n",
       "\n",
       "                                                ratings  \\\n",
       "96    [{'id': 3, 'name': 'Courageous', 'count': 3236...   \n",
       "0     [{'id': 7, 'name': 'Funny', 'count': 19645}, {...   \n",
       "644   [{'id': 8, 'name': 'Informative', 'count': 923...   \n",
       "201   [{'id': 22, 'name': 'Fascinating', 'count': 14...   \n",
       "1787  [{'id': 25, 'name': 'OK', 'count': 280}, {'id'...   \n",
       "954   [{'id': 23, 'name': 'Jaw-dropping', 'count': 3...   \n",
       "840   [{'id': 3, 'name': 'Courageous', 'count': 488}...   \n",
       "1346  [{'id': 23, 'name': 'Jaw-dropping', 'count': 3...   \n",
       "661   [{'id': 3, 'name': 'Courageous', 'count': 702}...   \n",
       "677   [{'id': 21, 'name': 'Unconvincing', 'count': 9...   \n",
       "\n",
       "                                          related_talks  \\\n",
       "96    [{'id': 86, 'hero': 'https://pe.tedcdn.com/ima...   \n",
       "0     [{'id': 865, 'hero': 'https://pe.tedcdn.com/im...   \n",
       "644   [{'id': 666, 'hero': 'https://pe.tedcdn.com/im...   \n",
       "201   [{'id': 184, 'hero': 'https://pe.tedcdn.com/im...   \n",
       "1787  [{'id': 1308, 'hero': 'https://pe.tedcdn.com/i...   \n",
       "954   [{'id': 453, 'hero': 'https://pe.tedcdn.com/im...   \n",
       "840   [{'id': 1772, 'hero': 'https://pe.tedcdn.com/i...   \n",
       "1346  [{'id': 605, 'hero': 'https://pe.tedcdn.com/im...   \n",
       "661   [{'id': 801, 'hero': 'https://pe.tedcdn.com/im...   \n",
       "677   [{'id': 814, 'hero': 'https://pe.tedcdn.com/im...   \n",
       "\n",
       "                                                    url     views  \n",
       "96    https://www.ted.com/talks/richard_dawkins_on_m...   4374792  \n",
       "0     https://www.ted.com/talks/ken_robinson_says_sc...  47227110  \n",
       "644   https://www.ted.com/talks/sam_harris_science_c...   3433437  \n",
       "201   https://www.ted.com/talks/jill_bolte_taylor_s_...  21190883  \n",
       "1787  https://www.ted.com/talks/david_chalmers_how_d...   2162764  \n",
       "954          https://www.ted.com/talks/janet_echelman\\n   1832930  \n",
       "840   https://www.ted.com/talks/lesley_hazelton_on_r...   1847256  \n",
       "1346  https://www.ted.com/talks/amy_cuddy_your_body_...  43155405  \n",
       "661   https://www.ted.com/talks/michael_specter_the_...   1838628  \n",
       "677   https://www.ted.com/talks/simon_sinek_how_grea...  34309432  "
      ]
     },
     "execution_count": 21,
     "metadata": {},
     "output_type": "execute_result"
    }
   ],
   "source": [
    "top_comment = ted.sort_values('comments', ascending = False).head(10)\n",
    "top_comment"
   ]
  },
  {
   "cell_type": "code",
   "execution_count": 22,
   "metadata": {},
   "outputs": [
    {
     "data": {
      "text/plain": [
       "Text(0, 0.5, 'the No. of comments')"
      ]
     },
     "execution_count": 22,
     "metadata": {},
     "output_type": "execute_result"
    },
    {
     "data": {
      "image/png": "[encoded data removed]",
      "text/plain": [
       "<Figure size 432x288 with 1 Axes>"
      ]
     },
     "metadata": {
      "needs_background": "light"
     },
     "output_type": "display_data"
    }
   ],
   "source": [
    "# a bar plot:\n",
    "top_comment.plot('main_speaker', 'comments', kind = 'bar', title = 'TED talks with the most comments')\n",
    "plt.xlabel('Speaker')\n",
    "plt.ylabel('the No. of comments')\n"
   ]
  },
  {
   "cell_type": "code",
   "execution_count": 23,
   "metadata": {},
   "outputs": [
    {
     "data": {
      "text/plain": [
       "count    2550.000000\n",
       "mean      191.562353\n",
       "std       282.315223\n",
       "min         2.000000\n",
       "25%        63.000000\n",
       "50%       118.000000\n",
       "75%       221.750000\n",
       "max      6404.000000\n",
       "Name: comments, dtype: float64"
      ]
     },
     "execution_count": 23,
     "metadata": {},
     "output_type": "execute_result"
    }
   ],
   "source": [
    "# the distribution of the number of comments\n",
    "ted['comments'].describe()"
   ]
  },
  {
   "cell_type": "code",
   "execution_count": 24,
   "metadata": {},
   "outputs": [
    {
     "data": {
      "text/plain": [
       "<AxesSubplot:xlabel='comments'>"
      ]
     },
     "execution_count": 24,
     "metadata": {},
     "output_type": "execute_result"
    },
    {
     "data": {
      "image/png": "[encoded data removed]",
      "text/plain": [
       "<Figure size 432x288 with 1 Axes>"
      ]
     },
     "metadata": {
      "needs_background": "light"
     },
     "output_type": "display_data"
    }
   ],
   "source": [
    "# boxplot\n",
    "sns.boxplot(x = ted['comments'])"
   ]
  },
  {
   "cell_type": "code",
   "execution_count": 28,
   "metadata": {},
   "outputs": [
    {
     "name": "stdout",
     "output_type": "stream",
     "text": [
      "The number of talks that have comments less than 500: 93.3%.\n"
     ]
    }
   ],
   "source": [
    "print(f'The number of talks that have comments less than 500: {round(sum(ted[\"comments\"] <= 500)*100/len(ted), 1)}%.')"
   ]
  },
  {
   "cell_type": "markdown",
   "metadata": {},
   "source": [
    "The average number of comments is 191, the median is 118. It shows that the TED talks are discussed a lot among the audience.\n",
    "93.3% of the talks have comments less than 500, thus we will plot a distribution with comments within this range."
   ]
  },
  {
   "cell_type": "code",
   "execution_count": 29,
   "metadata": {},
   "outputs": [
    {
     "name": "stderr",
     "output_type": "stream",
     "text": [
      "c:\\users\\wensh\\pycharmprojects\\dataanalysis\\venv\\lib\\site-packages\\seaborn\\distributions.py:2557: FutureWarning: `distplot` is a deprecated function and will be removed in a future version. Please adapt your code to use either `displot` (a figure-level function with similar flexibility) or `histplot` (an axes-level function for histograms).\n",
      "  warnings.warn(msg, FutureWarning)\n"
     ]
    },
    {
     "data": {
      "text/plain": [
       "Text(0.5, 1.0, 'Talks with comments less than 500')"
      ]
     },
     "execution_count": 29,
     "metadata": {},
     "output_type": "execute_result"
    },
    {
     "data": {
      "image/png": "[encoded data removed]",
      "text/plain": [
       "<Figure size 432x288 with 1 Axes>"
      ]
     },
     "metadata": {
      "needs_background": "light"
     },
     "output_type": "display_data"
    }
   ],
   "source": [
    "sns.distplot(ted[ted['comments']<500]['comments']).set_title('Talks with comments less than 500')"
   ]
  },
  {
   "cell_type": "markdown",
   "metadata": {},
   "source": [
    "### views vs comments: are they correlated?"
   ]
  },
  {
   "cell_type": "code",
   "execution_count": 31,
   "metadata": {},
   "outputs": [
    {
     "data": {
      "text/html": [
       "<div>\n",
       "<style scoped>\n",
       "    .dataframe tbody tr th:only-of-type {\n",
       "        vertical-align: middle;\n",
       "    }\n",
       "\n",
       "    .dataframe tbody tr th {\n",
       "        vertical-align: top;\n",
       "    }\n",
       "\n",
       "    .dataframe thead th {\n",
       "        text-align: right;\n",
       "    }\n",
       "</style>\n",
       "<table border=\"1\" class=\"dataframe\">\n",
       "  <thead>\n",
       "    <tr style=\"text-align: right;\">\n",
       "      <th></th>\n",
       "      <th>views</th>\n",
       "      <th>comments</th>\n",
       "    </tr>\n",
       "  </thead>\n",
       "  <tbody>\n",
       "    <tr>\n",
       "      <th>views</th>\n",
       "      <td>1.000000</td>\n",
       "      <td>0.530939</td>\n",
       "    </tr>\n",
       "    <tr>\n",
       "      <th>comments</th>\n",
       "      <td>0.530939</td>\n",
       "      <td>1.000000</td>\n",
       "    </tr>\n",
       "  </tbody>\n",
       "</table>\n",
       "</div>"
      ],
      "text/plain": [
       "             views  comments\n",
       "views     1.000000  0.530939\n",
       "comments  0.530939  1.000000"
      ]
     },
     "execution_count": 31,
     "metadata": {},
     "output_type": "execute_result"
    }
   ],
   "source": [
    "ted[['views', 'comments']].corr()"
   ]
  },
  {
   "cell_type": "markdown",
   "metadata": {},
   "source": [
    "The pearson correlation coefficient is 0.53, moderately correlated."
   ]
  },
  {
   "cell_type": "markdown",
   "metadata": {},
   "source": [
    "### The most heatly discussed Talks"
   ]
  },
  {
   "cell_type": "markdown",
   "metadata": {},
   "source": [
    "The above analysis of comments and views has inspired us to dig more out of the most discussed talks.\n",
    "* What talks can make more viewers participate in the discussion?\n",
    "Here we will define a new feature: discuss index(discuss index = comments/views*10000). We will list the top 10 talks with highest discuss index."
   ]
  },
  {
   "cell_type": "code",
   "execution_count": 33,
   "metadata": {},
   "outputs": [],
   "source": [
    "ted['dis_ind'] = round(ted['comments']/ted['views'] * 10000, 1)"
   ]
  },
  {
   "cell_type": "code",
   "execution_count": 36,
   "metadata": {},
   "outputs": [
    {
     "data": {
      "text/html": [
       "<div>\n",
       "<style scoped>\n",
       "    .dataframe tbody tr th:only-of-type {\n",
       "        vertical-align: middle;\n",
       "    }\n",
       "\n",
       "    .dataframe tbody tr th {\n",
       "        vertical-align: top;\n",
       "    }\n",
       "\n",
       "    .dataframe thead th {\n",
       "        text-align: right;\n",
       "    }\n",
       "</style>\n",
       "<table border=\"1\" class=\"dataframe\">\n",
       "  <thead>\n",
       "    <tr style=\"text-align: right;\">\n",
       "      <th></th>\n",
       "      <th>name</th>\n",
       "      <th>title</th>\n",
       "      <th>description</th>\n",
       "      <th>main_speaker</th>\n",
       "      <th>speaker_occupation</th>\n",
       "      <th>num_speaker</th>\n",
       "      <th>duration</th>\n",
       "      <th>event</th>\n",
       "      <th>film_date</th>\n",
       "      <th>published_date</th>\n",
       "      <th>comments</th>\n",
       "      <th>tags</th>\n",
       "      <th>languages</th>\n",
       "      <th>ratings</th>\n",
       "      <th>related_talks</th>\n",
       "      <th>url</th>\n",
       "      <th>views</th>\n",
       "      <th>dis_ind</th>\n",
       "    </tr>\n",
       "  </thead>\n",
       "  <tbody>\n",
       "    <tr>\n",
       "      <th>744</th>\n",
       "      <td>Diane J. Savino: The case for same-sex marriage</td>\n",
       "      <td>The case for same-sex marriage</td>\n",
       "      <td>Hours before New York lawmakers rejected a key...</td>\n",
       "      <td>Diane J. Savino</td>\n",
       "      <td>Senator</td>\n",
       "      <td>1</td>\n",
       "      <td>453</td>\n",
       "      <td>New York State Senate</td>\n",
       "      <td>01-12-2009</td>\n",
       "      <td>17-08-2010</td>\n",
       "      <td>649</td>\n",
       "      <td>['God', 'LGBT', 'culture', 'government', 'law'...</td>\n",
       "      <td>0</td>\n",
       "      <td>[{'id': 25, 'name': 'OK', 'count': 100}, {'id'...</td>\n",
       "      <td>[{'id': 217, 'hero': 'https://pe.tedcdn.com/im...</td>\n",
       "      <td>https://www.ted.com/talks/diane_j_savino_the_c...</td>\n",
       "      <td>292395</td>\n",
       "      <td>22.2</td>\n",
       "    </tr>\n",
       "    <tr>\n",
       "      <th>803</th>\n",
       "      <td>David Bismark: E-voting without fraud</td>\n",
       "      <td>E-voting without fraud</td>\n",
       "      <td>David Bismark demos a new system for voting th...</td>\n",
       "      <td>David Bismark</td>\n",
       "      <td>Voting system designer</td>\n",
       "      <td>1</td>\n",
       "      <td>422</td>\n",
       "      <td>TEDGlobal 2010</td>\n",
       "      <td>13-07-2010</td>\n",
       "      <td>02-11-2010</td>\n",
       "      <td>834</td>\n",
       "      <td>['culture', 'democracy', 'design', 'global iss...</td>\n",
       "      <td>36</td>\n",
       "      <td>[{'id': 25, 'name': 'OK', 'count': 111}, {'id'...</td>\n",
       "      <td>[{'id': 803, 'hero': 'https://pe.tedcdn.com/im...</td>\n",
       "      <td>https://www.ted.com/talks/david_bismark_e_voti...</td>\n",
       "      <td>543551</td>\n",
       "      <td>15.3</td>\n",
       "    </tr>\n",
       "    <tr>\n",
       "      <th>96</th>\n",
       "      <td>Richard Dawkins: Militant atheism</td>\n",
       "      <td>Militant atheism</td>\n",
       "      <td>Richard Dawkins urges all atheists to openly s...</td>\n",
       "      <td>Richard Dawkins</td>\n",
       "      <td>Evolutionary biologist</td>\n",
       "      <td>1</td>\n",
       "      <td>1750</td>\n",
       "      <td>TED2002</td>\n",
       "      <td>01-02-2002</td>\n",
       "      <td>15-04-2007</td>\n",
       "      <td>6404</td>\n",
       "      <td>['God', 'atheism', 'culture', 'religion', 'sci...</td>\n",
       "      <td>42</td>\n",
       "      <td>[{'id': 3, 'name': 'Courageous', 'count': 3236...</td>\n",
       "      <td>[{'id': 86, 'hero': 'https://pe.tedcdn.com/ima...</td>\n",
       "      <td>https://www.ted.com/talks/richard_dawkins_on_m...</td>\n",
       "      <td>4374792</td>\n",
       "      <td>14.6</td>\n",
       "    </tr>\n",
       "    <tr>\n",
       "      <th>694</th>\n",
       "      <td>Sharmeen Obaid-Chinoy: Inside a school for sui...</td>\n",
       "      <td>Inside a school for suicide bombers</td>\n",
       "      <td>Filmmaker Sharmeen Obaid-Chinoy takes on a ter...</td>\n",
       "      <td>Sharmeen Obaid-Chinoy</td>\n",
       "      <td>Filmmaker</td>\n",
       "      <td>1</td>\n",
       "      <td>489</td>\n",
       "      <td>TED2010</td>\n",
       "      <td>09-02-2010</td>\n",
       "      <td>26-05-2010</td>\n",
       "      <td>1502</td>\n",
       "      <td>['TED Fellows', 'children', 'culture', 'film',...</td>\n",
       "      <td>32</td>\n",
       "      <td>[{'id': 23, 'name': 'Jaw-dropping', 'count': 3...</td>\n",
       "      <td>[{'id': 171, 'hero': 'https://pe.tedcdn.com/im...</td>\n",
       "      <td>https://www.ted.com/talks/sharmeen_obaid_chino...</td>\n",
       "      <td>1057238</td>\n",
       "      <td>14.2</td>\n",
       "    </tr>\n",
       "    <tr>\n",
       "      <th>954</th>\n",
       "      <td>Janet Echelman: Taking imagination seriously</td>\n",
       "      <td>Taking imagination seriously</td>\n",
       "      <td>Janet Echelman found her true voice as an arti...</td>\n",
       "      <td>Janet Echelman</td>\n",
       "      <td>Artist</td>\n",
       "      <td>1</td>\n",
       "      <td>566</td>\n",
       "      <td>TED2011</td>\n",
       "      <td>02-03-2011</td>\n",
       "      <td>07-06-2011</td>\n",
       "      <td>2492</td>\n",
       "      <td>['art', 'cities', 'culture', 'data', 'design',...</td>\n",
       "      <td>35</td>\n",
       "      <td>[{'id': 23, 'name': 'Jaw-dropping', 'count': 3...</td>\n",
       "      <td>[{'id': 453, 'hero': 'https://pe.tedcdn.com/im...</td>\n",
       "      <td>https://www.ted.com/talks/janet_echelman\\n</td>\n",
       "      <td>1832930</td>\n",
       "      <td>13.6</td>\n",
       "    </tr>\n",
       "    <tr>\n",
       "      <th>840</th>\n",
       "      <td>Lesley Hazleton: On reading the Koran</td>\n",
       "      <td>On reading the Koran</td>\n",
       "      <td>Lesley Hazleton sat down one day to read the K...</td>\n",
       "      <td>Lesley Hazleton</td>\n",
       "      <td>Writer, psychologist</td>\n",
       "      <td>1</td>\n",
       "      <td>573</td>\n",
       "      <td>TEDxRainier</td>\n",
       "      <td>09-10-2010</td>\n",
       "      <td>04-01-2011</td>\n",
       "      <td>2374</td>\n",
       "      <td>['TEDx', 'culture', 'global issues', 'journali...</td>\n",
       "      <td>35</td>\n",
       "      <td>[{'id': 3, 'name': 'Courageous', 'count': 488}...</td>\n",
       "      <td>[{'id': 1772, 'hero': 'https://pe.tedcdn.com/i...</td>\n",
       "      <td>https://www.ted.com/talks/lesley_hazelton_on_r...</td>\n",
       "      <td>1847256</td>\n",
       "      <td>12.9</td>\n",
       "    </tr>\n",
       "    <tr>\n",
       "      <th>876</th>\n",
       "      <td>Elizabeth Lindsey: Curating humanity's heritage</td>\n",
       "      <td>Curating humanity's heritage</td>\n",
       "      <td>It's been said that when an elder dies, it's a...</td>\n",
       "      <td>Elizabeth Lindsey</td>\n",
       "      <td>Explorer, ethnographer</td>\n",
       "      <td>1</td>\n",
       "      <td>613</td>\n",
       "      <td>TEDWomen 2010</td>\n",
       "      <td>07-12-2010</td>\n",
       "      <td>23-02-2011</td>\n",
       "      <td>555</td>\n",
       "      <td>['anthropology', 'storytelling']</td>\n",
       "      <td>30</td>\n",
       "      <td>[{'id': 21, 'name': 'Unconvincing', 'count': 5...</td>\n",
       "      <td>[{'id': 69, 'hero': 'https://pe.tedcdn.com/ima...</td>\n",
       "      <td>https://www.ted.com/talks/elizabeth_lindsey_cu...</td>\n",
       "      <td>439180</td>\n",
       "      <td>12.6</td>\n",
       "    </tr>\n",
       "    <tr>\n",
       "      <th>661</th>\n",
       "      <td>Michael Specter: The danger of science denial</td>\n",
       "      <td>The danger of science denial</td>\n",
       "      <td>Vaccine-autism claims, \"Frankenfood\" bans, the...</td>\n",
       "      <td>Michael Specter</td>\n",
       "      <td>Writer</td>\n",
       "      <td>1</td>\n",
       "      <td>1141</td>\n",
       "      <td>TED2010</td>\n",
       "      <td>10-02-2010</td>\n",
       "      <td>12-04-2010</td>\n",
       "      <td>2272</td>\n",
       "      <td>['global issues', 'medicine', 'religion', 'sci...</td>\n",
       "      <td>31</td>\n",
       "      <td>[{'id': 3, 'name': 'Courageous', 'count': 702}...</td>\n",
       "      <td>[{'id': 801, 'hero': 'https://pe.tedcdn.com/im...</td>\n",
       "      <td>https://www.ted.com/talks/michael_specter_the_...</td>\n",
       "      <td>1838628</td>\n",
       "      <td>12.4</td>\n",
       "    </tr>\n",
       "    <tr>\n",
       "      <th>1787</th>\n",
       "      <td>David Chalmers: How do you explain consciousness?</td>\n",
       "      <td>How do you explain consciousness?</td>\n",
       "      <td>Our consciousness is a fundamental aspect of o...</td>\n",
       "      <td>David Chalmers</td>\n",
       "      <td>Philosopher</td>\n",
       "      <td>1</td>\n",
       "      <td>1117</td>\n",
       "      <td>TED2014</td>\n",
       "      <td>17-03-2014</td>\n",
       "      <td>14-07-2014</td>\n",
       "      <td>2673</td>\n",
       "      <td>['brain', 'consciousness', 'neuroscience', 'ph...</td>\n",
       "      <td>33</td>\n",
       "      <td>[{'id': 25, 'name': 'OK', 'count': 280}, {'id'...</td>\n",
       "      <td>[{'id': 1308, 'hero': 'https://pe.tedcdn.com/i...</td>\n",
       "      <td>https://www.ted.com/talks/david_chalmers_how_d...</td>\n",
       "      <td>2162764</td>\n",
       "      <td>12.4</td>\n",
       "    </tr>\n",
       "    <tr>\n",
       "      <th>561</th>\n",
       "      <td>Mallika Sarabhai: Dance to change the world</td>\n",
       "      <td>Dance to change the world</td>\n",
       "      <td>At TEDIndia, Mallika Sarabhai, a dancer/actor/...</td>\n",
       "      <td>Mallika Sarabhai</td>\n",
       "      <td>Dancer, actor, activist</td>\n",
       "      <td>1</td>\n",
       "      <td>1012</td>\n",
       "      <td>TEDIndia 2009</td>\n",
       "      <td>03-11-2009</td>\n",
       "      <td>25-11-2009</td>\n",
       "      <td>595</td>\n",
       "      <td>['culture', 'dance', 'entertainment', 'global ...</td>\n",
       "      <td>23</td>\n",
       "      <td>[{'id': 3, 'name': 'Courageous', 'count': 141}...</td>\n",
       "      <td>[{'id': 1073, 'hero': 'https://pe.tedcdn.com/i...</td>\n",
       "      <td>https://www.ted.com/talks/mallika_sarabhai\\n</td>\n",
       "      <td>481834</td>\n",
       "      <td>12.3</td>\n",
       "    </tr>\n",
       "  </tbody>\n",
       "</table>\n",
       "</div>"
      ],
      "text/plain": [
       "                                                   name  \\\n",
       "744     Diane J. Savino: The case for same-sex marriage   \n",
       "803               David Bismark: E-voting without fraud   \n",
       "96                    Richard Dawkins: Militant atheism   \n",
       "694   Sharmeen Obaid-Chinoy: Inside a school for sui...   \n",
       "954        Janet Echelman: Taking imagination seriously   \n",
       "840               Lesley Hazleton: On reading the Koran   \n",
       "876     Elizabeth Lindsey: Curating humanity's heritage   \n",
       "661       Michael Specter: The danger of science denial   \n",
       "1787  David Chalmers: How do you explain consciousness?   \n",
       "561         Mallika Sarabhai: Dance to change the world   \n",
       "\n",
       "                                    title  \\\n",
       "744        The case for same-sex marriage   \n",
       "803                E-voting without fraud   \n",
       "96                       Militant atheism   \n",
       "694   Inside a school for suicide bombers   \n",
       "954          Taking imagination seriously   \n",
       "840                  On reading the Koran   \n",
       "876          Curating humanity's heritage   \n",
       "661          The danger of science denial   \n",
       "1787    How do you explain consciousness?   \n",
       "561             Dance to change the world   \n",
       "\n",
       "                                            description  \\\n",
       "744   Hours before New York lawmakers rejected a key...   \n",
       "803   David Bismark demos a new system for voting th...   \n",
       "96    Richard Dawkins urges all atheists to openly s...   \n",
       "694   Filmmaker Sharmeen Obaid-Chinoy takes on a ter...   \n",
       "954   Janet Echelman found her true voice as an arti...   \n",
       "840   Lesley Hazleton sat down one day to read the K...   \n",
       "876   It's been said that when an elder dies, it's a...   \n",
       "661   Vaccine-autism claims, \"Frankenfood\" bans, the...   \n",
       "1787  Our consciousness is a fundamental aspect of o...   \n",
       "561   At TEDIndia, Mallika Sarabhai, a dancer/actor/...   \n",
       "\n",
       "               main_speaker       speaker_occupation  num_speaker  duration  \\\n",
       "744         Diane J. Savino                  Senator            1       453   \n",
       "803           David Bismark   Voting system designer            1       422   \n",
       "96          Richard Dawkins   Evolutionary biologist            1      1750   \n",
       "694   Sharmeen Obaid-Chinoy                Filmmaker            1       489   \n",
       "954          Janet Echelman                   Artist            1       566   \n",
       "840         Lesley Hazleton     Writer, psychologist            1       573   \n",
       "876       Elizabeth Lindsey   Explorer, ethnographer            1       613   \n",
       "661         Michael Specter                   Writer            1      1141   \n",
       "1787         David Chalmers              Philosopher            1      1117   \n",
       "561        Mallika Sarabhai  Dancer, actor, activist            1      1012   \n",
       "\n",
       "                      event   film_date published_date  comments  \\\n",
       "744   New York State Senate  01-12-2009     17-08-2010       649   \n",
       "803          TEDGlobal 2010  13-07-2010     02-11-2010       834   \n",
       "96                  TED2002  01-02-2002     15-04-2007      6404   \n",
       "694                 TED2010  09-02-2010     26-05-2010      1502   \n",
       "954                 TED2011  02-03-2011     07-06-2011      2492   \n",
       "840             TEDxRainier  09-10-2010     04-01-2011      2374   \n",
       "876           TEDWomen 2010  07-12-2010     23-02-2011       555   \n",
       "661                 TED2010  10-02-2010     12-04-2010      2272   \n",
       "1787                TED2014  17-03-2014     14-07-2014      2673   \n",
       "561           TEDIndia 2009  03-11-2009     25-11-2009       595   \n",
       "\n",
       "                                                   tags  languages  \\\n",
       "744   ['God', 'LGBT', 'culture', 'government', 'law'...          0   \n",
       "803   ['culture', 'democracy', 'design', 'global iss...         36   \n",
       "96    ['God', 'atheism', 'culture', 'religion', 'sci...         42   \n",
       "694   ['TED Fellows', 'children', 'culture', 'film',...         32   \n",
       "954   ['art', 'cities', 'culture', 'data', 'design',...         35   \n",
       "840   ['TEDx', 'culture', 'global issues', 'journali...         35   \n",
       "876                    ['anthropology', 'storytelling']         30   \n",
       "661   ['global issues', 'medicine', 'religion', 'sci...         31   \n",
       "1787  ['brain', 'consciousness', 'neuroscience', 'ph...         33   \n",
       "561   ['culture', 'dance', 'entertainment', 'global ...         23   \n",
       "\n",
       "                                                ratings  \\\n",
       "744   [{'id': 25, 'name': 'OK', 'count': 100}, {'id'...   \n",
       "803   [{'id': 25, 'name': 'OK', 'count': 111}, {'id'...   \n",
       "96    [{'id': 3, 'name': 'Courageous', 'count': 3236...   \n",
       "694   [{'id': 23, 'name': 'Jaw-dropping', 'count': 3...   \n",
       "954   [{'id': 23, 'name': 'Jaw-dropping', 'count': 3...   \n",
       "840   [{'id': 3, 'name': 'Courageous', 'count': 488}...   \n",
       "876   [{'id': 21, 'name': 'Unconvincing', 'count': 5...   \n",
       "661   [{'id': 3, 'name': 'Courageous', 'count': 702}...   \n",
       "1787  [{'id': 25, 'name': 'OK', 'count': 280}, {'id'...   \n",
       "561   [{'id': 3, 'name': 'Courageous', 'count': 141}...   \n",
       "\n",
       "                                          related_talks  \\\n",
       "744   [{'id': 217, 'hero': 'https://pe.tedcdn.com/im...   \n",
       "803   [{'id': 803, 'hero': 'https://pe.tedcdn.com/im...   \n",
       "96    [{'id': 86, 'hero': 'https://pe.tedcdn.com/ima...   \n",
       "694   [{'id': 171, 'hero': 'https://pe.tedcdn.com/im...   \n",
       "954   [{'id': 453, 'hero': 'https://pe.tedcdn.com/im...   \n",
       "840   [{'id': 1772, 'hero': 'https://pe.tedcdn.com/i...   \n",
       "876   [{'id': 69, 'hero': 'https://pe.tedcdn.com/ima...   \n",
       "661   [{'id': 801, 'hero': 'https://pe.tedcdn.com/im...   \n",
       "1787  [{'id': 1308, 'hero': 'https://pe.tedcdn.com/i...   \n",
       "561   [{'id': 1073, 'hero': 'https://pe.tedcdn.com/i...   \n",
       "\n",
       "                                                    url    views  dis_ind  \n",
       "744   https://www.ted.com/talks/diane_j_savino_the_c...   292395     22.2  \n",
       "803   https://www.ted.com/talks/david_bismark_e_voti...   543551     15.3  \n",
       "96    https://www.ted.com/talks/richard_dawkins_on_m...  4374792     14.6  \n",
       "694   https://www.ted.com/talks/sharmeen_obaid_chino...  1057238     14.2  \n",
       "954          https://www.ted.com/talks/janet_echelman\\n  1832930     13.6  \n",
       "840   https://www.ted.com/talks/lesley_hazelton_on_r...  1847256     12.9  \n",
       "876   https://www.ted.com/talks/elizabeth_lindsey_cu...   439180     12.6  \n",
       "661   https://www.ted.com/talks/michael_specter_the_...  1838628     12.4  \n",
       "1787  https://www.ted.com/talks/david_chalmers_how_d...  2162764     12.4  \n",
       "561        https://www.ted.com/talks/mallika_sarabhai\\n   481834     12.3  "
      ]
     },
     "execution_count": 36,
     "metadata": {},
     "output_type": "execute_result"
    }
   ],
   "source": [
    "dis_ind = ted.sort_values('dis_ind', ascending = False).head(10)\n",
    "dis_ind"
   ]
  },
  {
   "cell_type": "code",
   "execution_count": 38,
   "metadata": {},
   "outputs": [
    {
     "data": {
      "text/plain": [
       "Text(0, 0.5, 'Discussion index')"
      ]
     },
     "execution_count": 38,
     "metadata": {},
     "output_type": "execute_result"
    },
    {
     "data": {
      "image/png": "[encoded data removed]",
      "text/plain": [
       "<Figure size 432x288 with 1 Axes>"
      ]
     },
     "metadata": {
      "needs_background": "light"
     },
     "output_type": "display_data"
    }
   ],
   "source": [
    "dis_ind.plot('main_speaker', 'dis_ind', title = 'The talks with the highest discussion index', kind = 'bar')\n",
    "plt.xlabel('Speaker')\n",
    "plt.ylabel('Discussion index')\n"
   ]
  },
  {
   "cell_type": "markdown",
   "metadata": {},
   "source": [
    "Most of the talks with highest discussion index are tagged with religion, science and politics, which are more prone to discussion, compared to culture and arts."
   ]
  },
  {
   "cell_type": "markdown",
   "metadata": {},
   "source": [
    "### analyze the talks based on different times"
   ]
  },
  {
   "cell_type": "markdown",
   "metadata": {},
   "source": [
    "TED conference is held once a year, but TEDx and other small scale activities happen more frequently. How are these talks distributed?"
   ]
  },
  {
   "cell_type": "markdown",
   "metadata": {},
   "source": [
    "#### based on month"
   ]
  },
  {
   "cell_type": "code",
   "execution_count": 39,
   "metadata": {},
   "outputs": [],
   "source": [
    "month_order = ['Jan', 'Feb', 'Mar', 'Apr', 'May', 'Jun', 'Jul', 'Aug', 'Sep', 'Oct', 'Nov', 'Dec']\n",
    "day_order = ['Mon', 'Tue', 'Wed', 'Thu', 'Fri', 'Sat', 'Sun']"
   ]
  },
  {
   "cell_type": "code",
   "execution_count": 47,
   "metadata": {},
   "outputs": [],
   "source": [
    "# add a column of month\n",
    "ted['month'] = ted['film_date'].apply(lambda x: month_order[int(x.split('-')[1]) - 1])\n",
    "month_df = pd.DataFrame(ted['month'].value_counts()).reset_index()\n"
   ]
  },
  {
   "cell_type": "code",
   "execution_count": 49,
   "metadata": {},
   "outputs": [],
   "source": [
    "month_df.columns = ['month', 'talks']"
   ]
  },
  {
   "cell_type": "code",
   "execution_count": 50,
   "metadata": {},
   "outputs": [
    {
     "data": {
      "text/plain": [
       "<AxesSubplot:title={'center':'the time distribution of TED talks'}, xlabel='month'>"
      ]
     },
     "execution_count": 50,
     "metadata": {},
     "output_type": "execute_result"
    },
    {
     "data": {
      "image/png": "[encoded data removed]",
      "text/plain": [
       "<Figure size 432x288 with 1 Axes>"
      ]
     },
     "metadata": {
      "needs_background": "light"
     },
     "output_type": "display_data"
    }
   ],
   "source": [
    "month_df.plot('month', 'talks', title = 'the time distribution of TED talks', kind = 'bar')"
   ]
  },
  {
   "cell_type": "markdown",
   "metadata": {},
   "source": [
    "We can see that Feb is the month that most talks happen. It may be due to the TED conference. Jan and Aug are the months with least TED talks."
   ]
  },
  {
   "cell_type": "markdown",
   "metadata": {},
   "source": [
    "#### based on weeks\n"
   ]
  },
  {
   "cell_type": "code",
   "execution_count": 51,
   "metadata": {},
   "outputs": [],
   "source": [
    "# define a function to get the weekdays\n",
    "def getday(x):\n",
    "    day, month, year = (int(i) for i in x.split('-'))\n",
    "    answer = datetime.date(year, month, day).weekday()\n",
    "    return day_order[answer]\n"
   ]
  },
  {
   "cell_type": "code",
   "execution_count": 52,
   "metadata": {},
   "outputs": [],
   "source": [
    "# add a column of weekday\n",
    "ted['day'] = ted['film_date'].apply(getday)"
   ]
  },
  {
   "cell_type": "code",
   "execution_count": 53,
   "metadata": {},
   "outputs": [],
   "source": [
    "day_df = pd.DataFrame(ted['day'].value_counts()).reset_index()\n",
    "day_df.columns = ['day', 'talks']"
   ]
  },
  {
   "cell_type": "code",
   "execution_count": 54,
   "metadata": {},
   "outputs": [
    {
     "data": {
      "text/plain": [
       "<AxesSubplot:title={'center':'the time distribution of TED talks'}, xlabel='day'>"
      ]
     },
     "execution_count": 54,
     "metadata": {},
     "output_type": "execute_result"
    },
    {
     "data": {
      "image/png": "[encoded data removed]",
      "text/plain": [
       "<Figure size 432x288 with 1 Axes>"
      ]
     },
     "metadata": {
      "needs_background": "light"
     },
     "output_type": "display_data"
    }
   ],
   "source": [
    "day_df.plot('day', 'talks', title = 'the time distribution of TED talks', kind = 'bar')"
   ]
  },
  {
   "cell_type": "markdown",
   "metadata": {},
   "source": [
    "It is clear that most talks happen on Wednesdays and Tuesdays. Least talks happen on Saturdays."
   ]
  },
  {
   "cell_type": "markdown",
   "metadata": {},
   "source": [
    "#### based on years"
   ]
  },
  {
   "cell_type": "code",
   "execution_count": 137,
   "metadata": {},
   "outputs": [],
   "source": [
    "# add a column of year\n",
    "ted['year'] = ted['film_date'].apply(lambda x: x.split('-')[2])\n",
    "year_df = pd.DataFrame(ted['year'].value_counts(ascending = True)).reset_index()\n",
    "year_df.columns = ['year','talks']\n",
    "\n"
   ]
  },
  {
   "cell_type": "code",
   "execution_count": 142,
   "metadata": {},
   "outputs": [
    {
     "data": {
      "text/plain": [
       "<AxesSubplot:xlabel='year'>"
      ]
     },
     "execution_count": 142,
     "metadata": {},
     "output_type": "execute_result"
    },
    {
     "data": {
      "image/png": "[encoded data removed]",
      "text/plain": [
       "<Figure size 432x288 with 1 Axes>"
      ]
     },
     "metadata": {
      "needs_background": "light"
     },
     "output_type": "display_data"
    }
   ],
   "source": [
    "year_df.plot('year', 'talks')\n"
   ]
  },
  {
   "cell_type": "markdown",
   "metadata": {},
   "source": [
    "As expected, the number of TED talks in increasing every year."
   ]
  },
  {
   "cell_type": "markdown",
   "metadata": {},
   "source": [
    "### the speakers"
   ]
  },
  {
   "cell_type": "markdown",
   "metadata": {},
   "source": [
    "#### the number of talks the speakers gave"
   ]
  },
  {
   "cell_type": "code",
   "execution_count": 144,
   "metadata": {},
   "outputs": [
    {
     "data": {
      "text/html": [
       "<div>\n",
       "<style scoped>\n",
       "    .dataframe tbody tr th:only-of-type {\n",
       "        vertical-align: middle;\n",
       "    }\n",
       "\n",
       "    .dataframe tbody tr th {\n",
       "        vertical-align: top;\n",
       "    }\n",
       "\n",
       "    .dataframe thead th {\n",
       "        text-align: right;\n",
       "    }\n",
       "</style>\n",
       "<table border=\"1\" class=\"dataframe\">\n",
       "  <thead>\n",
       "    <tr style=\"text-align: right;\">\n",
       "      <th></th>\n",
       "      <th>speaker</th>\n",
       "      <th>No. of talks</th>\n",
       "    </tr>\n",
       "  </thead>\n",
       "  <tbody>\n",
       "    <tr>\n",
       "      <th>770</th>\n",
       "      <td>Hans Rosling</td>\n",
       "      <td>9</td>\n",
       "    </tr>\n",
       "    <tr>\n",
       "      <th>1066</th>\n",
       "      <td>Juan Enriquez</td>\n",
       "      <td>7</td>\n",
       "    </tr>\n",
       "    <tr>\n",
       "      <th>1693</th>\n",
       "      <td>Rives</td>\n",
       "      <td>6</td>\n",
       "    </tr>\n",
       "    <tr>\n",
       "      <th>1278</th>\n",
       "      <td>Marco Tempest</td>\n",
       "      <td>6</td>\n",
       "    </tr>\n",
       "    <tr>\n",
       "      <th>397</th>\n",
       "      <td>Clay Shirky</td>\n",
       "      <td>5</td>\n",
       "    </tr>\n",
       "    <tr>\n",
       "      <th>1487</th>\n",
       "      <td>Nicholas Negroponte</td>\n",
       "      <td>5</td>\n",
       "    </tr>\n",
       "    <tr>\n",
       "      <th>1075</th>\n",
       "      <td>Julian Treasure</td>\n",
       "      <td>5</td>\n",
       "    </tr>\n",
       "    <tr>\n",
       "      <th>424</th>\n",
       "      <td>Dan Ariely</td>\n",
       "      <td>5</td>\n",
       "    </tr>\n",
       "    <tr>\n",
       "      <th>850</th>\n",
       "      <td>Jacqueline Novogratz</td>\n",
       "      <td>5</td>\n",
       "    </tr>\n",
       "    <tr>\n",
       "      <th>248</th>\n",
       "      <td>Bill Gates</td>\n",
       "      <td>5</td>\n",
       "    </tr>\n",
       "  </tbody>\n",
       "</table>\n",
       "</div>"
      ],
      "text/plain": [
       "                   speaker  No. of talks\n",
       "770           Hans Rosling             9\n",
       "1066         Juan Enriquez             7\n",
       "1693                 Rives             6\n",
       "1278         Marco Tempest             6\n",
       "397            Clay Shirky             5\n",
       "1487   Nicholas Negroponte             5\n",
       "1075       Julian Treasure             5\n",
       "424             Dan Ariely             5\n",
       "850   Jacqueline Novogratz             5\n",
       "248             Bill Gates             5"
      ]
     },
     "execution_count": 144,
     "metadata": {},
     "output_type": "execute_result"
    }
   ],
   "source": [
    "speaker_df = ted.groupby('main_speaker').count().reset_index()[['main_speaker', 'comments']]\n",
    "speaker_df.columns = ['speaker', 'No. of talks']\n",
    "speaker_df = speaker_df.sort_values('No. of talks', ascending = False)\n",
    "speaker_df.head(10)"
   ]
  },
  {
   "cell_type": "markdown",
   "metadata": {},
   "source": [
    "No.1 is Hans Rosling, who is a health expert from Switzerland and gave 9 talks on TED. \n",
    "Next, let's have a look what oocupations are popular on TED."
   ]
  },
  {
   "cell_type": "markdown",
   "metadata": {},
   "source": [
    "#### the distribution of speakers' occupation"
   ]
  },
  {
   "cell_type": "code",
   "execution_count": 145,
   "metadata": {},
   "outputs": [],
   "source": [
    "occupation_df = ted.groupby('speaker_occupation').count().reset_index()[['speaker_occupation', 'comments']]\n",
    "occupation_df.columns = ['occupation', 'No. of talks']\n",
    "occupation_df = occupation_df.sort_values('No. of talks', ascending = False)"
   ]
  },
  {
   "cell_type": "code",
   "execution_count": 147,
   "metadata": {},
   "outputs": [
    {
     "data": {
      "text/plain": [
       "<AxesSubplot:xlabel='occupation'>"
      ]
     },
     "execution_count": 147,
     "metadata": {},
     "output_type": "execute_result"
    },
    {
     "data": {
      "image/png": "[encoded data removed]",
      "text/plain": [
       "<Figure size 432x288 with 1 Axes>"
      ]
     },
     "metadata": {
      "needs_background": "light"
     },
     "output_type": "display_data"
    }
   ],
   "source": [
    "occupation_df.head(10).plot('occupation', 'No. of talks', kind = 'bar')"
   ]
  },
  {
   "cell_type": "markdown",
   "metadata": {},
   "source": [
    "* Writer is the most popular occupation;\n",
    "* Comes next is artist and designer, each having approximately 35."
   ]
  },
  {
   "cell_type": "markdown",
   "metadata": {},
   "source": [
    "#### views arranged by different occupations"
   ]
  },
  {
   "cell_type": "code",
   "execution_count": 148,
   "metadata": {},
   "outputs": [
    {
     "data": {
      "text/plain": [
       "(0.0, 4000000.0)"
      ]
     },
     "execution_count": 148,
     "metadata": {},
     "output_type": "execute_result"
    },
    {
     "data": {
      "image/png": "[encoded data removed]",
      "text/plain": [
       "<Figure size 1080x576 with 1 Axes>"
      ]
     },
     "metadata": {
      "needs_background": "light"
     },
     "output_type": "display_data"
    }
   ],
   "source": [
    "# boxplot\n",
    "fig, ax = plt.subplots(nrows = 1, ncols = 1, figsize = (15, 8))\n",
    "ax = sns.boxplot(x = 'speaker_occupation', y = 'views', \n",
    "            data = ted[ted['speaker_occupation'].isin(occupation_df.head(10)['occupation'])], \n",
    "            palette='vlag', ax = ax)\n",
    "ax.set_title('views by different occupations')\n",
    "ax.set_xlabel('occupation')\n",
    "ax.set_ylabel('views')\n",
    "ax.set_ylim([0, 0.4e7])\n"
   ]
  },
  {
   "cell_type": "markdown",
   "metadata": {},
   "source": [
    "Among the 10 most popular occupations, writer and psychologist atttact more views."
   ]
  },
  {
   "cell_type": "markdown",
   "metadata": {},
   "source": [
    "### the subjects of TED talks "
   ]
  },
  {
   "cell_type": "markdown",
   "metadata": {},
   "source": [
    "Tags column include talks subjects information. As it's a list, we need to do some cleaning here and extract the tags out of the list."
   ]
  },
  {
   "cell_type": "code",
   "execution_count": 155,
   "metadata": {},
   "outputs": [],
   "source": [
    "# convert a list of strings to a list\n",
    "import ast\n",
    "ted['tags'] = ted['tags'].apply(lambda x: ast.literal_eval(x))"
   ]
  },
  {
   "cell_type": "code",
   "execution_count": 156,
   "metadata": {},
   "outputs": [
    {
     "data": {
      "text/plain": [
       "0    [children, creativity, culture, dance, educati...\n",
       "1    [alternative energy, cars, climate change, cul...\n",
       "2    [computers, entertainment, interface design, m...\n",
       "3    [MacArthur grant, activism, business, cities, ...\n",
       "4    [Africa, Asia, Google, demo, economics, global...\n",
       "Name: tags, dtype: object"
      ]
     },
     "execution_count": 156,
     "metadata": {},
     "output_type": "execute_result"
    }
   ],
   "source": [
    "# original tags\n",
    "ted['tags'].head()"
   ]
  },
  {
   "cell_type": "code",
   "execution_count": 157,
   "metadata": {},
   "outputs": [
    {
     "data": {
      "text/plain": [
       "0      children\n",
       "0    creativity\n",
       "0       culture\n",
       "0         dance\n",
       "0     education\n",
       "Name: theme, dtype: object"
      ]
     },
     "execution_count": 157,
     "metadata": {},
     "output_type": "execute_result"
    }
   ],
   "source": [
    "# split tags\n",
    "s = ted.apply(lambda x: pd.Series(x['tags']),axis=1).stack().reset_index(level=1, drop=True)\n",
    "s.name = 'theme'\n",
    "s.head()"
   ]
  },
  {
   "cell_type": "code",
   "execution_count": 158,
   "metadata": {},
   "outputs": [
    {
     "data": {
      "text/html": [
       "<div>\n",
       "<style scoped>\n",
       "    .dataframe tbody tr th:only-of-type {\n",
       "        vertical-align: middle;\n",
       "    }\n",
       "\n",
       "    .dataframe tbody tr th {\n",
       "        vertical-align: top;\n",
       "    }\n",
       "\n",
       "    .dataframe thead th {\n",
       "        text-align: right;\n",
       "    }\n",
       "</style>\n",
       "<table border=\"1\" class=\"dataframe\">\n",
       "  <thead>\n",
       "    <tr style=\"text-align: right;\">\n",
       "      <th></th>\n",
       "      <th>name</th>\n",
       "      <th>title</th>\n",
       "      <th>description</th>\n",
       "      <th>main_speaker</th>\n",
       "      <th>speaker_occupation</th>\n",
       "      <th>num_speaker</th>\n",
       "      <th>duration</th>\n",
       "      <th>event</th>\n",
       "      <th>film_date</th>\n",
       "      <th>published_date</th>\n",
       "      <th>comments</th>\n",
       "      <th>languages</th>\n",
       "      <th>ratings</th>\n",
       "      <th>related_talks</th>\n",
       "      <th>url</th>\n",
       "      <th>views</th>\n",
       "      <th>theme</th>\n",
       "    </tr>\n",
       "  </thead>\n",
       "  <tbody>\n",
       "    <tr>\n",
       "      <th>0</th>\n",
       "      <td>Ken Robinson: Do schools kill creativity?</td>\n",
       "      <td>Do schools kill creativity?</td>\n",
       "      <td>Sir Ken Robinson makes an entertaining and pro...</td>\n",
       "      <td>Ken Robinson</td>\n",
       "      <td>Author/educator</td>\n",
       "      <td>1</td>\n",
       "      <td>1164</td>\n",
       "      <td>TED2006</td>\n",
       "      <td>24-02-2006</td>\n",
       "      <td>26-06-2006</td>\n",
       "      <td>4553</td>\n",
       "      <td>60</td>\n",
       "      <td>[{'id': 7, 'name': 'Funny', 'count': 19645}, {...</td>\n",
       "      <td>[{'id': 865, 'hero': 'https://pe.tedcdn.com/im...</td>\n",
       "      <td>https://www.ted.com/talks/ken_robinson_says_sc...</td>\n",
       "      <td>47227110</td>\n",
       "      <td>children</td>\n",
       "    </tr>\n",
       "    <tr>\n",
       "      <th>0</th>\n",
       "      <td>Ken Robinson: Do schools kill creativity?</td>\n",
       "      <td>Do schools kill creativity?</td>\n",
       "      <td>Sir Ken Robinson makes an entertaining and pro...</td>\n",
       "      <td>Ken Robinson</td>\n",
       "      <td>Author/educator</td>\n",
       "      <td>1</td>\n",
       "      <td>1164</td>\n",
       "      <td>TED2006</td>\n",
       "      <td>24-02-2006</td>\n",
       "      <td>26-06-2006</td>\n",
       "      <td>4553</td>\n",
       "      <td>60</td>\n",
       "      <td>[{'id': 7, 'name': 'Funny', 'count': 19645}, {...</td>\n",
       "      <td>[{'id': 865, 'hero': 'https://pe.tedcdn.com/im...</td>\n",
       "      <td>https://www.ted.com/talks/ken_robinson_says_sc...</td>\n",
       "      <td>47227110</td>\n",
       "      <td>creativity</td>\n",
       "    </tr>\n",
       "  </tbody>\n",
       "</table>\n",
       "</div>"
      ],
      "text/plain": [
       "                                        name                        title  \\\n",
       "0  Ken Robinson: Do schools kill creativity?  Do schools kill creativity?   \n",
       "0  Ken Robinson: Do schools kill creativity?  Do schools kill creativity?   \n",
       "\n",
       "                                         description  main_speaker  \\\n",
       "0  Sir Ken Robinson makes an entertaining and pro...  Ken Robinson   \n",
       "0  Sir Ken Robinson makes an entertaining and pro...  Ken Robinson   \n",
       "\n",
       "  speaker_occupation  num_speaker  duration    event   film_date  \\\n",
       "0    Author/educator            1      1164  TED2006  24-02-2006   \n",
       "0    Author/educator            1      1164  TED2006  24-02-2006   \n",
       "\n",
       "  published_date  comments  languages  \\\n",
       "0     26-06-2006      4553         60   \n",
       "0     26-06-2006      4553         60   \n",
       "\n",
       "                                             ratings  \\\n",
       "0  [{'id': 7, 'name': 'Funny', 'count': 19645}, {...   \n",
       "0  [{'id': 7, 'name': 'Funny', 'count': 19645}, {...   \n",
       "\n",
       "                                       related_talks  \\\n",
       "0  [{'id': 865, 'hero': 'https://pe.tedcdn.com/im...   \n",
       "0  [{'id': 865, 'hero': 'https://pe.tedcdn.com/im...   \n",
       "\n",
       "                                                 url     views       theme  \n",
       "0  https://www.ted.com/talks/ken_robinson_says_sc...  47227110    children  \n",
       "0  https://www.ted.com/talks/ken_robinson_says_sc...  47227110  creativity  "
      ]
     },
     "execution_count": 158,
     "metadata": {},
     "output_type": "execute_result"
    }
   ],
   "source": [
    "# add the split tags to the original dataframe\n",
    "theme_df = ted.drop('tags', axis = 1).join(s)\n",
    "theme_df.head(2)"
   ]
  },
  {
   "cell_type": "code",
   "execution_count": 164,
   "metadata": {},
   "outputs": [
    {
     "name": "stdout",
     "output_type": "stream",
     "text": [
      "The number of tags：416\n"
     ]
    }
   ],
   "source": [
    "# the number of tags\n",
    "print(f\"The number of tags：{len(theme_df['theme'].value_counts())}\")"
   ]
  },
  {
   "cell_type": "code",
   "execution_count": 176,
   "metadata": {},
   "outputs": [
    {
     "data": {
      "text/plain": [
       "<AxesSubplot:title={'center':'the most popular TED talks tags'}>"
      ]
     },
     "execution_count": 176,
     "metadata": {},
     "output_type": "execute_result"
    },
    {
     "data": {
      "image/png": "[encoded data removed]",
      "text/plain": [
       "<Figure size 432x288 with 1 Axes>"
      ]
     },
     "metadata": {
      "needs_background": "light"
     },
     "output_type": "display_data"
    }
   ],
   "source": [
    "theme_df['theme'].value_counts().head(10).plot(x = 'theme', kind = 'bar', title = 'the most popular TED talks tags')"
   ]
  },
  {
   "cell_type": "markdown",
   "metadata": {},
   "source": [
    "As expected, technology is the most popular theme, followed by science, global issues and culture.\n",
    "How have these popular themes developed these days? We selected 7 themes(technology, science, global issues, culture, design, business and entertainment) to analyze."
   ]
  },
  {
   "cell_type": "code",
   "execution_count": 198,
   "metadata": {},
   "outputs": [
    {
     "data": {
      "text/html": [
       "<div>\n",
       "<style scoped>\n",
       "    .dataframe tbody tr th:only-of-type {\n",
       "        vertical-align: middle;\n",
       "    }\n",
       "\n",
       "    .dataframe tbody tr th {\n",
       "        vertical-align: top;\n",
       "    }\n",
       "\n",
       "    .dataframe thead th {\n",
       "        text-align: right;\n",
       "    }\n",
       "</style>\n",
       "<table border=\"1\" class=\"dataframe\">\n",
       "  <thead>\n",
       "    <tr style=\"text-align: right;\">\n",
       "      <th></th>\n",
       "      <th>theme</th>\n",
       "      <th>number</th>\n",
       "    </tr>\n",
       "  </thead>\n",
       "  <tbody>\n",
       "    <tr>\n",
       "      <th>0</th>\n",
       "      <td>technology</td>\n",
       "      <td>727</td>\n",
       "    </tr>\n",
       "    <tr>\n",
       "      <th>1</th>\n",
       "      <td>science</td>\n",
       "      <td>567</td>\n",
       "    </tr>\n",
       "    <tr>\n",
       "      <th>2</th>\n",
       "      <td>global issues</td>\n",
       "      <td>501</td>\n",
       "    </tr>\n",
       "    <tr>\n",
       "      <th>3</th>\n",
       "      <td>culture</td>\n",
       "      <td>486</td>\n",
       "    </tr>\n",
       "    <tr>\n",
       "      <th>4</th>\n",
       "      <td>TEDx</td>\n",
       "      <td>450</td>\n",
       "    </tr>\n",
       "    <tr>\n",
       "      <th>5</th>\n",
       "      <td>design</td>\n",
       "      <td>418</td>\n",
       "    </tr>\n",
       "    <tr>\n",
       "      <th>6</th>\n",
       "      <td>business</td>\n",
       "      <td>348</td>\n",
       "    </tr>\n",
       "    <tr>\n",
       "      <th>7</th>\n",
       "      <td>entertainment</td>\n",
       "      <td>299</td>\n",
       "    </tr>\n",
       "    <tr>\n",
       "      <th>8</th>\n",
       "      <td>health</td>\n",
       "      <td>236</td>\n",
       "    </tr>\n",
       "    <tr>\n",
       "      <th>9</th>\n",
       "      <td>innovation</td>\n",
       "      <td>229</td>\n",
       "    </tr>\n",
       "  </tbody>\n",
       "</table>\n",
       "</div>"
      ],
      "text/plain": [
       "           theme  number\n",
       "0     technology     727\n",
       "1        science     567\n",
       "2  global issues     501\n",
       "3        culture     486\n",
       "4           TEDx     450\n",
       "5         design     418\n",
       "6       business     348\n",
       "7  entertainment     299\n",
       "8         health     236\n",
       "9     innovation     229"
      ]
     },
     "execution_count": 198,
     "metadata": {},
     "output_type": "execute_result"
    }
   ],
   "source": [
    "pop_themes = theme_df['theme'].value_counts().head(10).reset_index()\n",
    "pop_themes.columns = ['theme', 'number']\n",
    "pop_themes"
   ]
  },
  {
   "cell_type": "code",
   "execution_count": 228,
   "metadata": {},
   "outputs": [],
   "source": [
    "pop_theme_talks = theme_df[(theme_df['theme'].isin(pop_themes.head(8)['theme'])) & (theme_df['theme'] != 'TEDx')]\n"
   ]
  },
  {
   "cell_type": "code",
   "execution_count": 229,
   "metadata": {},
   "outputs": [
    {
     "name": "stderr",
     "output_type": "stream",
     "text": [
      "c:\\users\\wensh\\pycharmprojects\\dataanalysis\\venv\\lib\\site-packages\\ipykernel_launcher.py:1: SettingWithCopyWarning: \n",
      "A value is trying to be set on a copy of a slice from a DataFrame.\n",
      "Try using .loc[row_indexer,col_indexer] = value instead\n",
      "\n",
      "See the caveats in the documentation: https://pandas.pydata.org/pandas-docs/stable/user_guide/indexing.html#returning-a-view-versus-a-copy\n",
      "  \"\"\"Entry point for launching an IPython kernel.\n"
     ]
    }
   ],
   "source": [
    "pop_theme_talks['year'] = pop_theme_talks['film_date'].apply(lambda x: datetime.datetime.strptime(x, '%d-%m-%Y').year)"
   ]
  },
  {
   "cell_type": "code",
   "execution_count": 231,
   "metadata": {},
   "outputs": [
    {
     "data": {
      "text/html": [
       "<div>\n",
       "<style scoped>\n",
       "    .dataframe tbody tr th:only-of-type {\n",
       "        vertical-align: middle;\n",
       "    }\n",
       "\n",
       "    .dataframe tbody tr th {\n",
       "        vertical-align: top;\n",
       "    }\n",
       "\n",
       "    .dataframe thead th {\n",
       "        text-align: right;\n",
       "    }\n",
       "</style>\n",
       "<table border=\"1\" class=\"dataframe\">\n",
       "  <thead>\n",
       "    <tr style=\"text-align: right;\">\n",
       "      <th></th>\n",
       "      <th>name</th>\n",
       "      <th>title</th>\n",
       "      <th>description</th>\n",
       "      <th>main_speaker</th>\n",
       "      <th>speaker_occupation</th>\n",
       "      <th>num_speaker</th>\n",
       "      <th>duration</th>\n",
       "      <th>event</th>\n",
       "      <th>film_date</th>\n",
       "      <th>published_date</th>\n",
       "      <th>comments</th>\n",
       "      <th>languages</th>\n",
       "      <th>ratings</th>\n",
       "      <th>related_talks</th>\n",
       "      <th>url</th>\n",
       "      <th>views</th>\n",
       "      <th>theme</th>\n",
       "      <th>year</th>\n",
       "    </tr>\n",
       "  </thead>\n",
       "  <tbody>\n",
       "    <tr>\n",
       "      <th>0</th>\n",
       "      <td>Ken Robinson: Do schools kill creativity?</td>\n",
       "      <td>Do schools kill creativity?</td>\n",
       "      <td>Sir Ken Robinson makes an entertaining and pro...</td>\n",
       "      <td>Ken Robinson</td>\n",
       "      <td>Author/educator</td>\n",
       "      <td>1</td>\n",
       "      <td>1164</td>\n",
       "      <td>TED2006</td>\n",
       "      <td>24-02-2006</td>\n",
       "      <td>26-06-2006</td>\n",
       "      <td>4553</td>\n",
       "      <td>60</td>\n",
       "      <td>[{'id': 7, 'name': 'Funny', 'count': 19645}, {...</td>\n",
       "      <td>[{'id': 865, 'hero': 'https://pe.tedcdn.com/im...</td>\n",
       "      <td>https://www.ted.com/talks/ken_robinson_says_sc...</td>\n",
       "      <td>47227110</td>\n",
       "      <td>culture</td>\n",
       "      <td>2006</td>\n",
       "    </tr>\n",
       "    <tr>\n",
       "      <th>1</th>\n",
       "      <td>Al Gore: Averting the climate crisis</td>\n",
       "      <td>Averting the climate crisis</td>\n",
       "      <td>With the same humor and humanity he exuded in ...</td>\n",
       "      <td>Al Gore</td>\n",
       "      <td>Climate advocate</td>\n",
       "      <td>1</td>\n",
       "      <td>977</td>\n",
       "      <td>TED2006</td>\n",
       "      <td>24-02-2006</td>\n",
       "      <td>26-06-2006</td>\n",
       "      <td>265</td>\n",
       "      <td>43</td>\n",
       "      <td>[{'id': 7, 'name': 'Funny', 'count': 544}, {'i...</td>\n",
       "      <td>[{'id': 243, 'hero': 'https://pe.tedcdn.com/im...</td>\n",
       "      <td>https://www.ted.com/talks/al_gore_on_averting_...</td>\n",
       "      <td>3200520</td>\n",
       "      <td>culture</td>\n",
       "      <td>2006</td>\n",
       "    </tr>\n",
       "    <tr>\n",
       "      <th>1</th>\n",
       "      <td>Al Gore: Averting the climate crisis</td>\n",
       "      <td>Averting the climate crisis</td>\n",
       "      <td>With the same humor and humanity he exuded in ...</td>\n",
       "      <td>Al Gore</td>\n",
       "      <td>Climate advocate</td>\n",
       "      <td>1</td>\n",
       "      <td>977</td>\n",
       "      <td>TED2006</td>\n",
       "      <td>24-02-2006</td>\n",
       "      <td>26-06-2006</td>\n",
       "      <td>265</td>\n",
       "      <td>43</td>\n",
       "      <td>[{'id': 7, 'name': 'Funny', 'count': 544}, {'i...</td>\n",
       "      <td>[{'id': 243, 'hero': 'https://pe.tedcdn.com/im...</td>\n",
       "      <td>https://www.ted.com/talks/al_gore_on_averting_...</td>\n",
       "      <td>3200520</td>\n",
       "      <td>global issues</td>\n",
       "      <td>2006</td>\n",
       "    </tr>\n",
       "    <tr>\n",
       "      <th>1</th>\n",
       "      <td>Al Gore: Averting the climate crisis</td>\n",
       "      <td>Averting the climate crisis</td>\n",
       "      <td>With the same humor and humanity he exuded in ...</td>\n",
       "      <td>Al Gore</td>\n",
       "      <td>Climate advocate</td>\n",
       "      <td>1</td>\n",
       "      <td>977</td>\n",
       "      <td>TED2006</td>\n",
       "      <td>24-02-2006</td>\n",
       "      <td>26-06-2006</td>\n",
       "      <td>265</td>\n",
       "      <td>43</td>\n",
       "      <td>[{'id': 7, 'name': 'Funny', 'count': 544}, {'i...</td>\n",
       "      <td>[{'id': 243, 'hero': 'https://pe.tedcdn.com/im...</td>\n",
       "      <td>https://www.ted.com/talks/al_gore_on_averting_...</td>\n",
       "      <td>3200520</td>\n",
       "      <td>science</td>\n",
       "      <td>2006</td>\n",
       "    </tr>\n",
       "    <tr>\n",
       "      <th>1</th>\n",
       "      <td>Al Gore: Averting the climate crisis</td>\n",
       "      <td>Averting the climate crisis</td>\n",
       "      <td>With the same humor and humanity he exuded in ...</td>\n",
       "      <td>Al Gore</td>\n",
       "      <td>Climate advocate</td>\n",
       "      <td>1</td>\n",
       "      <td>977</td>\n",
       "      <td>TED2006</td>\n",
       "      <td>24-02-2006</td>\n",
       "      <td>26-06-2006</td>\n",
       "      <td>265</td>\n",
       "      <td>43</td>\n",
       "      <td>[{'id': 7, 'name': 'Funny', 'count': 544}, {'i...</td>\n",
       "      <td>[{'id': 243, 'hero': 'https://pe.tedcdn.com/im...</td>\n",
       "      <td>https://www.ted.com/talks/al_gore_on_averting_...</td>\n",
       "      <td>3200520</td>\n",
       "      <td>technology</td>\n",
       "      <td>2006</td>\n",
       "    </tr>\n",
       "    <tr>\n",
       "      <th>2</th>\n",
       "      <td>David Pogue: Simplicity sells</td>\n",
       "      <td>Simplicity sells</td>\n",
       "      <td>New York Times columnist David Pogue takes aim...</td>\n",
       "      <td>David Pogue</td>\n",
       "      <td>Technology columnist</td>\n",
       "      <td>1</td>\n",
       "      <td>1286</td>\n",
       "      <td>TED2006</td>\n",
       "      <td>23-02-2006</td>\n",
       "      <td>26-06-2006</td>\n",
       "      <td>124</td>\n",
       "      <td>26</td>\n",
       "      <td>[{'id': 7, 'name': 'Funny', 'count': 964}, {'i...</td>\n",
       "      <td>[{'id': 1725, 'hero': 'https://pe.tedcdn.com/i...</td>\n",
       "      <td>https://www.ted.com/talks/david_pogue_says_sim...</td>\n",
       "      <td>1636292</td>\n",
       "      <td>entertainment</td>\n",
       "      <td>2006</td>\n",
       "    </tr>\n",
       "  </tbody>\n",
       "</table>\n",
       "</div>"
      ],
      "text/plain": [
       "                                        name                        title  \\\n",
       "0  Ken Robinson: Do schools kill creativity?  Do schools kill creativity?   \n",
       "1       Al Gore: Averting the climate crisis  Averting the climate crisis   \n",
       "1       Al Gore: Averting the climate crisis  Averting the climate crisis   \n",
       "1       Al Gore: Averting the climate crisis  Averting the climate crisis   \n",
       "1       Al Gore: Averting the climate crisis  Averting the climate crisis   \n",
       "2              David Pogue: Simplicity sells             Simplicity sells   \n",
       "\n",
       "                                         description  main_speaker  \\\n",
       "0  Sir Ken Robinson makes an entertaining and pro...  Ken Robinson   \n",
       "1  With the same humor and humanity he exuded in ...       Al Gore   \n",
       "1  With the same humor and humanity he exuded in ...       Al Gore   \n",
       "1  With the same humor and humanity he exuded in ...       Al Gore   \n",
       "1  With the same humor and humanity he exuded in ...       Al Gore   \n",
       "2  New York Times columnist David Pogue takes aim...   David Pogue   \n",
       "\n",
       "     speaker_occupation  num_speaker  duration    event   film_date  \\\n",
       "0       Author/educator            1      1164  TED2006  24-02-2006   \n",
       "1      Climate advocate            1       977  TED2006  24-02-2006   \n",
       "1      Climate advocate            1       977  TED2006  24-02-2006   \n",
       "1      Climate advocate            1       977  TED2006  24-02-2006   \n",
       "1      Climate advocate            1       977  TED2006  24-02-2006   \n",
       "2  Technology columnist            1      1286  TED2006  23-02-2006   \n",
       "\n",
       "  published_date  comments  languages  \\\n",
       "0     26-06-2006      4553         60   \n",
       "1     26-06-2006       265         43   \n",
       "1     26-06-2006       265         43   \n",
       "1     26-06-2006       265         43   \n",
       "1     26-06-2006       265         43   \n",
       "2     26-06-2006       124         26   \n",
       "\n",
       "                                             ratings  \\\n",
       "0  [{'id': 7, 'name': 'Funny', 'count': 19645}, {...   \n",
       "1  [{'id': 7, 'name': 'Funny', 'count': 544}, {'i...   \n",
       "1  [{'id': 7, 'name': 'Funny', 'count': 544}, {'i...   \n",
       "1  [{'id': 7, 'name': 'Funny', 'count': 544}, {'i...   \n",
       "1  [{'id': 7, 'name': 'Funny', 'count': 544}, {'i...   \n",
       "2  [{'id': 7, 'name': 'Funny', 'count': 964}, {'i...   \n",
       "\n",
       "                                       related_talks  \\\n",
       "0  [{'id': 865, 'hero': 'https://pe.tedcdn.com/im...   \n",
       "1  [{'id': 243, 'hero': 'https://pe.tedcdn.com/im...   \n",
       "1  [{'id': 243, 'hero': 'https://pe.tedcdn.com/im...   \n",
       "1  [{'id': 243, 'hero': 'https://pe.tedcdn.com/im...   \n",
       "1  [{'id': 243, 'hero': 'https://pe.tedcdn.com/im...   \n",
       "2  [{'id': 1725, 'hero': 'https://pe.tedcdn.com/i...   \n",
       "\n",
       "                                                 url     views          theme  \\\n",
       "0  https://www.ted.com/talks/ken_robinson_says_sc...  47227110        culture   \n",
       "1  https://www.ted.com/talks/al_gore_on_averting_...   3200520        culture   \n",
       "1  https://www.ted.com/talks/al_gore_on_averting_...   3200520  global issues   \n",
       "1  https://www.ted.com/talks/al_gore_on_averting_...   3200520        science   \n",
       "1  https://www.ted.com/talks/al_gore_on_averting_...   3200520     technology   \n",
       "2  https://www.ted.com/talks/david_pogue_says_sim...   1636292  entertainment   \n",
       "\n",
       "   year  \n",
       "0  2006  \n",
       "1  2006  \n",
       "1  2006  \n",
       "1  2006  \n",
       "1  2006  \n",
       "2  2006  "
      ]
     },
     "execution_count": 231,
     "metadata": {},
     "output_type": "execute_result"
    }
   ],
   "source": [
    "pop_theme_talks.head(6)"
   ]
  },
  {
   "cell_type": "code",
   "execution_count": 232,
   "metadata": {},
   "outputs": [],
   "source": [
    "pop_theme_talks = pop_theme_talks[pop_theme_talks['year'] > 2008]"
   ]
  },
  {
   "cell_type": "code",
   "execution_count": 233,
   "metadata": {},
   "outputs": [
    {
     "data": {
      "image/png": "[encoded data removed]",
      "text/plain": [
       "<Figure size 864x576 with 1 Axes>"
      ]
     },
     "metadata": {
      "needs_background": "light"
     },
     "output_type": "display_data"
    }
   ],
   "source": [
    "# a bar plot:\n",
    "themes = list(pop_themes.head(8)['theme'])\n",
    "themes.remove('TEDx')\n",
    "\n",
    "ctab = pd.crosstab([pop_theme_talks['year']], pop_theme_talks['theme']).apply(lambda x: x/x.sum(), axis=1)\n",
    "ctab[themes].plot(kind='bar', stacked=True, colormap='rainbow', figsize=(12,8)).legend(loc='center left', bbox_to_anchor=(1, 0.5))\n",
    "plt.show()"
   ]
  },
  {
   "cell_type": "code",
   "execution_count": 235,
   "metadata": {},
   "outputs": [
    {
     "data": {
      "text/plain": [
       "<matplotlib.legend.Legend at 0x13c0b190188>"
      ]
     },
     "execution_count": 235,
     "metadata": {},
     "output_type": "execute_result"
    },
    {
     "data": {
      "image/png": "[encoded data removed]",
      "text/plain": [
       "<Figure size 864x576 with 1 Axes>"
      ]
     },
     "metadata": {
      "needs_background": "light"
     },
     "output_type": "display_data"
    }
   ],
   "source": [
    "# line plot\n",
    "ctab[themes].plot(kind='line', stacked=False, colormap='rainbow', figsize=(12,8)).legend(loc='center left', bbox_to_anchor=(1, 0.5))"
   ]
  },
  {
   "cell_type": "markdown",
   "metadata": {},
   "source": [
    "We can see from the plot that the technology theme has increased sharply, which is not a surprise given the rapid progress in AR, blockchain, deep learning etc. In addition, the last few years have seen the steady drop in the entertainment theme. "
   ]
  }
 ],
 "metadata": {
  "kernelspec": {
   "display_name": "Python 3",
   "language": "python",
   "name": "python3"
  },
  "language_info": {
   "codemirror_mode": {
    "name": "ipython",
    "version": 3
   },
   "file_extension": ".py",
   "mimetype": "text/x-python",
   "name": "python",
   "nbconvert_exporter": "python",
   "pygments_lexer": "ipython3",
   "version": "3.7.9"
  }
 },
 "nbformat": 4,
 "nbformat_minor": 4
}
